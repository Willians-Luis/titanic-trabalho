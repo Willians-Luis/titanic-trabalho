{
  "nbformat": 4,
  "nbformat_minor": 0,
  "metadata": {
    "colab": {
      "provenance": [],
      "authorship_tag": "ABX9TyNUymqCgifD+tGXuASvojyF",
      "include_colab_link": true
    },
    "kernelspec": {
      "name": "python3",
      "display_name": "Python 3"
    },
    "language_info": {
      "name": "python"
    }
  },
  "cells": [
    {
      "cell_type": "markdown",
      "metadata": {
        "id": "view-in-github",
        "colab_type": "text"
      },
      "source": [
        "<a href=\"https://colab.research.google.com/github/Willians-Luis/titanic-trabalho/blob/main/Titanic_Trabalho_Final.ipynb\" target=\"_parent\"><img src=\"https://colab.research.google.com/assets/colab-badge.svg\" alt=\"Open In Colab\"/></a>"
      ]
    },
    {
      "cell_type": "code",
      "execution_count": 34,
      "metadata": {
        "id": "WyJXIykDsQs3"
      },
      "outputs": [],
      "source": [
        "import pandas as pd\n",
        "import seaborn as sns\n",
        "import numpy as np\n",
        "import matplotlib.pyplot as plt\n",
        "from sklearn.linear_model import LinearRegression\n",
        "from sklearn.metrics import r2_score, accuracy_score\n",
        "from sklearn.model_selection import train_test_split\n",
        "from sklearn.tree import DecisionTreeClassifier\n",
        "from sklearn.ensemble import RandomForestClassifier\n",
        "from sklearn.model_selection import KFold\n",
        "from sklearn.model_selection import cross_val_score\n",
        "from sklearn.linear_model import LogisticRegression\n",
        "from sklearn.metrics import recall_score, precision_score, f1_score"
      ]
    },
    {
      "cell_type": "markdown",
      "source": [
        "#<br>**Tratando os dados**"
      ],
      "metadata": {
        "id": "2aZKEv_C8LO3"
      }
    },
    {
      "cell_type": "code",
      "source": [
        "train_original = pd.read_csv('train.csv')\n",
        "test_original = pd.read_csv('test.csv')\n",
        "train = train_original\n",
        "test = test_original"
      ],
      "metadata": {
        "id": "A01xeg2hsTc9"
      },
      "execution_count": 35,
      "outputs": []
    },
    {
      "cell_type": "code",
      "source": [
        "train.info()"
      ],
      "metadata": {
        "colab": {
          "base_uri": "https://localhost:8080/"
        },
        "id": "zfoN3dYcOzaQ",
        "outputId": "73a7e0e6-8d27-4c30-b6a4-66bc9e3be734"
      },
      "execution_count": 36,
      "outputs": [
        {
          "output_type": "stream",
          "name": "stdout",
          "text": [
            "<class 'pandas.core.frame.DataFrame'>\n",
            "RangeIndex: 891 entries, 0 to 890\n",
            "Data columns (total 12 columns):\n",
            " #   Column       Non-Null Count  Dtype  \n",
            "---  ------       --------------  -----  \n",
            " 0   PassengerId  891 non-null    int64  \n",
            " 1   Survived     891 non-null    int64  \n",
            " 2   Pclass       891 non-null    int64  \n",
            " 3   Name         891 non-null    object \n",
            " 4   Sex          891 non-null    object \n",
            " 5   Age          714 non-null    float64\n",
            " 6   SibSp        891 non-null    int64  \n",
            " 7   Parch        891 non-null    int64  \n",
            " 8   Ticket       891 non-null    object \n",
            " 9   Fare         891 non-null    float64\n",
            " 10  Cabin        204 non-null    object \n",
            " 11  Embarked     889 non-null    object \n",
            "dtypes: float64(2), int64(5), object(5)\n",
            "memory usage: 83.7+ KB\n"
          ]
        }
      ]
    },
    {
      "cell_type": "code",
      "source": [
        "test.info()"
      ],
      "metadata": {
        "colab": {
          "base_uri": "https://localhost:8080/"
        },
        "id": "PRf8kxNAO7KA",
        "outputId": "30b65032-88d0-49e6-debe-ce90846093ca"
      },
      "execution_count": 37,
      "outputs": [
        {
          "output_type": "stream",
          "name": "stdout",
          "text": [
            "<class 'pandas.core.frame.DataFrame'>\n",
            "RangeIndex: 418 entries, 0 to 417\n",
            "Data columns (total 11 columns):\n",
            " #   Column       Non-Null Count  Dtype  \n",
            "---  ------       --------------  -----  \n",
            " 0   PassengerId  418 non-null    int64  \n",
            " 1   Pclass       418 non-null    int64  \n",
            " 2   Name         418 non-null    object \n",
            " 3   Sex          418 non-null    object \n",
            " 4   Age          332 non-null    float64\n",
            " 5   SibSp        418 non-null    int64  \n",
            " 6   Parch        418 non-null    int64  \n",
            " 7   Ticket       418 non-null    object \n",
            " 8   Fare         417 non-null    float64\n",
            " 9   Cabin        91 non-null     object \n",
            " 10  Embarked     418 non-null    object \n",
            "dtypes: float64(2), int64(4), object(5)\n",
            "memory usage: 36.0+ KB\n"
          ]
        }
      ]
    },
    {
      "cell_type": "code",
      "source": [
        "#Exibindo a porcentagem de dados nulos do train\n",
        "train.isnull().sum() / len(train) * 100"
      ],
      "metadata": {
        "colab": {
          "base_uri": "https://localhost:8080/"
        },
        "id": "was2dQsL853z",
        "outputId": "979b6b42-0d65-4da1-dbae-ef9d1343a908"
      },
      "execution_count": 38,
      "outputs": [
        {
          "output_type": "execute_result",
          "data": {
            "text/plain": [
              "PassengerId     0.000000\n",
              "Survived        0.000000\n",
              "Pclass          0.000000\n",
              "Name            0.000000\n",
              "Sex             0.000000\n",
              "Age            19.865320\n",
              "SibSp           0.000000\n",
              "Parch           0.000000\n",
              "Ticket          0.000000\n",
              "Fare            0.000000\n",
              "Cabin          77.104377\n",
              "Embarked        0.224467\n",
              "dtype: float64"
            ]
          },
          "metadata": {},
          "execution_count": 38
        }
      ]
    },
    {
      "cell_type": "code",
      "source": [
        "#Exibindo a porcentagem de dados nulos do test\n",
        "test.isnull().sum() / len(test) * 100"
      ],
      "metadata": {
        "colab": {
          "base_uri": "https://localhost:8080/"
        },
        "id": "rBbJrG0M85mN",
        "outputId": "bf7cff69-68a4-4201-e463-041240778203"
      },
      "execution_count": 39,
      "outputs": [
        {
          "output_type": "execute_result",
          "data": {
            "text/plain": [
              "PassengerId     0.000000\n",
              "Pclass          0.000000\n",
              "Name            0.000000\n",
              "Sex             0.000000\n",
              "Age            20.574163\n",
              "SibSp           0.000000\n",
              "Parch           0.000000\n",
              "Ticket          0.000000\n",
              "Fare            0.239234\n",
              "Cabin          78.229665\n",
              "Embarked        0.000000\n",
              "dtype: float64"
            ]
          },
          "metadata": {},
          "execution_count": 39
        }
      ]
    },
    {
      "cell_type": "code",
      "source": [
        "#removendo colunas menos relevantes e com muitos dados nulos\n",
        "train = train.drop(['Name', 'Ticket', 'Cabin'], axis=1)\n",
        "test = test.drop(['Name', 'Ticket', 'Cabin'], axis=1)"
      ],
      "metadata": {
        "id": "tmimy8bYsT_d"
      },
      "execution_count": 40,
      "outputs": []
    },
    {
      "cell_type": "code",
      "source": [
        "#Substituindo idades nulas pela media de idades\n",
        "train['Age'].fillna((train['Age'].mean()), inplace=True)\n",
        "test['Age'].fillna((test['Age'].mean()), inplace=True)"
      ],
      "metadata": {
        "id": "zlVu0UFYsT79"
      },
      "execution_count": 41,
      "outputs": []
    },
    {
      "cell_type": "code",
      "source": [
        "#train - substituindo embarked nulos pela moda\n",
        "train.loc[train.Embarked.isnull(), 'Embarked'] = train.Embarked.mode()[0]"
      ],
      "metadata": {
        "id": "ceN96ovdsajd"
      },
      "execution_count": 42,
      "outputs": []
    },
    {
      "cell_type": "code",
      "source": [
        "#test - substituindo Fare nulos pela media\n",
        "test.loc[test.Fare.isnull(), 'Fare'] = test.Fare.mean()"
      ],
      "metadata": {
        "id": "4r-RjFL6saet"
      },
      "execution_count": 43,
      "outputs": []
    },
    {
      "cell_type": "code",
      "source": [
        "#Substituindo Sex de objeto para binario\n",
        "train['Sex'].replace('male', 1, inplace=True)\n",
        "train['Sex'].replace('female', 0, inplace=True)\n",
        "test['Sex'].replace('male', 1, inplace=True)\n",
        "test['Sex'].replace('female', 0, inplace=True)"
      ],
      "metadata": {
        "id": "bmjbvnK8zGFc"
      },
      "execution_count": 44,
      "outputs": []
    },
    {
      "cell_type": "code",
      "source": [
        "#Exibindo a porcentagem de dados nulos do train\n",
        "train.isnull().sum() / len(train) * 100"
      ],
      "metadata": {
        "id": "uTBDK9tbsaaN",
        "colab": {
          "base_uri": "https://localhost:8080/"
        },
        "outputId": "58042993-e75b-4bd4-8fdf-a4c7dd768c17"
      },
      "execution_count": 45,
      "outputs": [
        {
          "output_type": "execute_result",
          "data": {
            "text/plain": [
              "PassengerId    0.0\n",
              "Survived       0.0\n",
              "Pclass         0.0\n",
              "Sex            0.0\n",
              "Age            0.0\n",
              "SibSp          0.0\n",
              "Parch          0.0\n",
              "Fare           0.0\n",
              "Embarked       0.0\n",
              "dtype: float64"
            ]
          },
          "metadata": {},
          "execution_count": 45
        }
      ]
    },
    {
      "cell_type": "code",
      "source": [
        "#Exibindo a porcentagem de dados nulos do test\n",
        "test.isnull().sum() / len(test) * 100"
      ],
      "metadata": {
        "id": "NgOTkHtMsjo9",
        "colab": {
          "base_uri": "https://localhost:8080/"
        },
        "outputId": "70bb73c0-f689-4ea7-8412-6c5539c4fe9c"
      },
      "execution_count": 46,
      "outputs": [
        {
          "output_type": "execute_result",
          "data": {
            "text/plain": [
              "PassengerId    0.0\n",
              "Pclass         0.0\n",
              "Sex            0.0\n",
              "Age            0.0\n",
              "SibSp          0.0\n",
              "Parch          0.0\n",
              "Fare           0.0\n",
              "Embarked       0.0\n",
              "dtype: float64"
            ]
          },
          "metadata": {},
          "execution_count": 46
        }
      ]
    },
    {
      "cell_type": "code",
      "source": [
        "#criando um array train apenas com as colunas com dados numericos\n",
        "array_treino_numerico = train.columns[train.dtypes != 'object']\n",
        "\n",
        "#transformando o array em dataframe\n",
        "treino_numerico = train.loc[:,array_treino_numerico]"
      ],
      "metadata": {
        "id": "2M5sZe9qsjlt"
      },
      "execution_count": 47,
      "outputs": []
    },
    {
      "cell_type": "code",
      "source": [
        "#criando um array test apenas com as colunas com dados numericos\n",
        "array_teste_numerico = test.columns[test.dtypes != 'object']\n",
        "\n",
        "#transformando o array em dataframe\n",
        "teste_numerico = test.loc[:,array_teste_numerico]"
      ],
      "metadata": {
        "id": "g7XNF--0smZl"
      },
      "execution_count": 48,
      "outputs": []
    },
    {
      "cell_type": "markdown",
      "source": [
        "#<br><br>**Análise Exploratória e Visualização de Dados:**"
      ],
      "metadata": {
        "id": "OVQQi1i0ZYm7"
      }
    },
    {
      "cell_type": "code",
      "source": [
        "train.describe()"
      ],
      "metadata": {
        "colab": {
          "base_uri": "https://localhost:8080/",
          "height": 300
        },
        "id": "uinXLH5Jag3I",
        "outputId": "3b780231-cfed-4e36-c1ba-44f0b30ad509"
      },
      "execution_count": 49,
      "outputs": [
        {
          "output_type": "execute_result",
          "data": {
            "text/plain": [
              "       PassengerId    Survived      Pclass         Sex         Age  \\\n",
              "count   891.000000  891.000000  891.000000  891.000000  891.000000   \n",
              "mean    446.000000    0.383838    2.308642    0.647587   29.699118   \n",
              "std     257.353842    0.486592    0.836071    0.477990   13.002015   \n",
              "min       1.000000    0.000000    1.000000    0.000000    0.420000   \n",
              "25%     223.500000    0.000000    2.000000    0.000000   22.000000   \n",
              "50%     446.000000    0.000000    3.000000    1.000000   29.699118   \n",
              "75%     668.500000    1.000000    3.000000    1.000000   35.000000   \n",
              "max     891.000000    1.000000    3.000000    1.000000   80.000000   \n",
              "\n",
              "            SibSp       Parch        Fare  \n",
              "count  891.000000  891.000000  891.000000  \n",
              "mean     0.523008    0.381594   32.204208  \n",
              "std      1.102743    0.806057   49.693429  \n",
              "min      0.000000    0.000000    0.000000  \n",
              "25%      0.000000    0.000000    7.910400  \n",
              "50%      0.000000    0.000000   14.454200  \n",
              "75%      1.000000    0.000000   31.000000  \n",
              "max      8.000000    6.000000  512.329200  "
            ],
            "text/html": [
              "\n",
              "  <div id=\"df-aee6cb18-4681-4ae3-bbd2-36bc7e5bda92\">\n",
              "    <div class=\"colab-df-container\">\n",
              "      <div>\n",
              "<style scoped>\n",
              "    .dataframe tbody tr th:only-of-type {\n",
              "        vertical-align: middle;\n",
              "    }\n",
              "\n",
              "    .dataframe tbody tr th {\n",
              "        vertical-align: top;\n",
              "    }\n",
              "\n",
              "    .dataframe thead th {\n",
              "        text-align: right;\n",
              "    }\n",
              "</style>\n",
              "<table border=\"1\" class=\"dataframe\">\n",
              "  <thead>\n",
              "    <tr style=\"text-align: right;\">\n",
              "      <th></th>\n",
              "      <th>PassengerId</th>\n",
              "      <th>Survived</th>\n",
              "      <th>Pclass</th>\n",
              "      <th>Sex</th>\n",
              "      <th>Age</th>\n",
              "      <th>SibSp</th>\n",
              "      <th>Parch</th>\n",
              "      <th>Fare</th>\n",
              "    </tr>\n",
              "  </thead>\n",
              "  <tbody>\n",
              "    <tr>\n",
              "      <th>count</th>\n",
              "      <td>891.000000</td>\n",
              "      <td>891.000000</td>\n",
              "      <td>891.000000</td>\n",
              "      <td>891.000000</td>\n",
              "      <td>891.000000</td>\n",
              "      <td>891.000000</td>\n",
              "      <td>891.000000</td>\n",
              "      <td>891.000000</td>\n",
              "    </tr>\n",
              "    <tr>\n",
              "      <th>mean</th>\n",
              "      <td>446.000000</td>\n",
              "      <td>0.383838</td>\n",
              "      <td>2.308642</td>\n",
              "      <td>0.647587</td>\n",
              "      <td>29.699118</td>\n",
              "      <td>0.523008</td>\n",
              "      <td>0.381594</td>\n",
              "      <td>32.204208</td>\n",
              "    </tr>\n",
              "    <tr>\n",
              "      <th>std</th>\n",
              "      <td>257.353842</td>\n",
              "      <td>0.486592</td>\n",
              "      <td>0.836071</td>\n",
              "      <td>0.477990</td>\n",
              "      <td>13.002015</td>\n",
              "      <td>1.102743</td>\n",
              "      <td>0.806057</td>\n",
              "      <td>49.693429</td>\n",
              "    </tr>\n",
              "    <tr>\n",
              "      <th>min</th>\n",
              "      <td>1.000000</td>\n",
              "      <td>0.000000</td>\n",
              "      <td>1.000000</td>\n",
              "      <td>0.000000</td>\n",
              "      <td>0.420000</td>\n",
              "      <td>0.000000</td>\n",
              "      <td>0.000000</td>\n",
              "      <td>0.000000</td>\n",
              "    </tr>\n",
              "    <tr>\n",
              "      <th>25%</th>\n",
              "      <td>223.500000</td>\n",
              "      <td>0.000000</td>\n",
              "      <td>2.000000</td>\n",
              "      <td>0.000000</td>\n",
              "      <td>22.000000</td>\n",
              "      <td>0.000000</td>\n",
              "      <td>0.000000</td>\n",
              "      <td>7.910400</td>\n",
              "    </tr>\n",
              "    <tr>\n",
              "      <th>50%</th>\n",
              "      <td>446.000000</td>\n",
              "      <td>0.000000</td>\n",
              "      <td>3.000000</td>\n",
              "      <td>1.000000</td>\n",
              "      <td>29.699118</td>\n",
              "      <td>0.000000</td>\n",
              "      <td>0.000000</td>\n",
              "      <td>14.454200</td>\n",
              "    </tr>\n",
              "    <tr>\n",
              "      <th>75%</th>\n",
              "      <td>668.500000</td>\n",
              "      <td>1.000000</td>\n",
              "      <td>3.000000</td>\n",
              "      <td>1.000000</td>\n",
              "      <td>35.000000</td>\n",
              "      <td>1.000000</td>\n",
              "      <td>0.000000</td>\n",
              "      <td>31.000000</td>\n",
              "    </tr>\n",
              "    <tr>\n",
              "      <th>max</th>\n",
              "      <td>891.000000</td>\n",
              "      <td>1.000000</td>\n",
              "      <td>3.000000</td>\n",
              "      <td>1.000000</td>\n",
              "      <td>80.000000</td>\n",
              "      <td>8.000000</td>\n",
              "      <td>6.000000</td>\n",
              "      <td>512.329200</td>\n",
              "    </tr>\n",
              "  </tbody>\n",
              "</table>\n",
              "</div>\n",
              "      <button class=\"colab-df-convert\" onclick=\"convertToInteractive('df-aee6cb18-4681-4ae3-bbd2-36bc7e5bda92')\"\n",
              "              title=\"Convert this dataframe to an interactive table.\"\n",
              "              style=\"display:none;\">\n",
              "        \n",
              "  <svg xmlns=\"http://www.w3.org/2000/svg\" height=\"24px\"viewBox=\"0 0 24 24\"\n",
              "       width=\"24px\">\n",
              "    <path d=\"M0 0h24v24H0V0z\" fill=\"none\"/>\n",
              "    <path d=\"M18.56 5.44l.94 2.06.94-2.06 2.06-.94-2.06-.94-.94-2.06-.94 2.06-2.06.94zm-11 1L8.5 8.5l.94-2.06 2.06-.94-2.06-.94L8.5 2.5l-.94 2.06-2.06.94zm10 10l.94 2.06.94-2.06 2.06-.94-2.06-.94-.94-2.06-.94 2.06-2.06.94z\"/><path d=\"M17.41 7.96l-1.37-1.37c-.4-.4-.92-.59-1.43-.59-.52 0-1.04.2-1.43.59L10.3 9.45l-7.72 7.72c-.78.78-.78 2.05 0 2.83L4 21.41c.39.39.9.59 1.41.59.51 0 1.02-.2 1.41-.59l7.78-7.78 2.81-2.81c.8-.78.8-2.07 0-2.86zM5.41 20L4 18.59l7.72-7.72 1.47 1.35L5.41 20z\"/>\n",
              "  </svg>\n",
              "      </button>\n",
              "      \n",
              "  <style>\n",
              "    .colab-df-container {\n",
              "      display:flex;\n",
              "      flex-wrap:wrap;\n",
              "      gap: 12px;\n",
              "    }\n",
              "\n",
              "    .colab-df-convert {\n",
              "      background-color: #E8F0FE;\n",
              "      border: none;\n",
              "      border-radius: 50%;\n",
              "      cursor: pointer;\n",
              "      display: none;\n",
              "      fill: #1967D2;\n",
              "      height: 32px;\n",
              "      padding: 0 0 0 0;\n",
              "      width: 32px;\n",
              "    }\n",
              "\n",
              "    .colab-df-convert:hover {\n",
              "      background-color: #E2EBFA;\n",
              "      box-shadow: 0px 1px 2px rgba(60, 64, 67, 0.3), 0px 1px 3px 1px rgba(60, 64, 67, 0.15);\n",
              "      fill: #174EA6;\n",
              "    }\n",
              "\n",
              "    [theme=dark] .colab-df-convert {\n",
              "      background-color: #3B4455;\n",
              "      fill: #D2E3FC;\n",
              "    }\n",
              "\n",
              "    [theme=dark] .colab-df-convert:hover {\n",
              "      background-color: #434B5C;\n",
              "      box-shadow: 0px 1px 3px 1px rgba(0, 0, 0, 0.15);\n",
              "      filter: drop-shadow(0px 1px 2px rgba(0, 0, 0, 0.3));\n",
              "      fill: #FFFFFF;\n",
              "    }\n",
              "  </style>\n",
              "\n",
              "      <script>\n",
              "        const buttonEl =\n",
              "          document.querySelector('#df-aee6cb18-4681-4ae3-bbd2-36bc7e5bda92 button.colab-df-convert');\n",
              "        buttonEl.style.display =\n",
              "          google.colab.kernel.accessAllowed ? 'block' : 'none';\n",
              "\n",
              "        async function convertToInteractive(key) {\n",
              "          const element = document.querySelector('#df-aee6cb18-4681-4ae3-bbd2-36bc7e5bda92');\n",
              "          const dataTable =\n",
              "            await google.colab.kernel.invokeFunction('convertToInteractive',\n",
              "                                                     [key], {});\n",
              "          if (!dataTable) return;\n",
              "\n",
              "          const docLinkHtml = 'Like what you see? Visit the ' +\n",
              "            '<a target=\"_blank\" href=https://colab.research.google.com/notebooks/data_table.ipynb>data table notebook</a>'\n",
              "            + ' to learn more about interactive tables.';\n",
              "          element.innerHTML = '';\n",
              "          dataTable['output_type'] = 'display_data';\n",
              "          await google.colab.output.renderOutput(dataTable, element);\n",
              "          const docLink = document.createElement('div');\n",
              "          docLink.innerHTML = docLinkHtml;\n",
              "          element.appendChild(docLink);\n",
              "        }\n",
              "      </script>\n",
              "    </div>\n",
              "  </div>\n",
              "  "
            ]
          },
          "metadata": {},
          "execution_count": 49
        }
      ]
    },
    {
      "cell_type": "code",
      "source": [
        "#porcentagem de pessoas na primeira classe\n",
        "train.loc[train['Pclass'] == 1, 'Pclass'].count() / len(train['Pclass'].index) * 100"
      ],
      "metadata": {
        "colab": {
          "base_uri": "https://localhost:8080/"
        },
        "id": "pTrm4EM-uMlO",
        "outputId": "eb517a6a-04c8-46fa-8eb1-5e2e62cfc20f"
      },
      "execution_count": 50,
      "outputs": [
        {
          "output_type": "execute_result",
          "data": {
            "text/plain": [
              "24.242424242424242"
            ]
          },
          "metadata": {},
          "execution_count": 50
        }
      ]
    },
    {
      "cell_type": "code",
      "source": [
        "#porcentagem de pessoas na segunda classe\n",
        "train.loc[train['Pclass'] == 2, 'Pclass'].count() / len(train['Pclass'].index) * 100"
      ],
      "metadata": {
        "colab": {
          "base_uri": "https://localhost:8080/"
        },
        "id": "5Tre1zJYxr_2",
        "outputId": "4ae268cd-1692-4891-ab3d-5013dbb9df58"
      },
      "execution_count": 51,
      "outputs": [
        {
          "output_type": "execute_result",
          "data": {
            "text/plain": [
              "20.65095398428732"
            ]
          },
          "metadata": {},
          "execution_count": 51
        }
      ]
    },
    {
      "cell_type": "code",
      "source": [
        "#porcentagem de pessoas na terceira classe\n",
        "train.loc[train['Pclass'] == 3, 'Pclass'].count() / len(train['Pclass'].index) * 100"
      ],
      "metadata": {
        "colab": {
          "base_uri": "https://localhost:8080/"
        },
        "id": "g9zhyBlBxrtz",
        "outputId": "9efdc7fe-7966-4a80-d6c1-e9ba1fe6ae7a"
      },
      "execution_count": 52,
      "outputs": [
        {
          "output_type": "execute_result",
          "data": {
            "text/plain": [
              "55.106621773288445"
            ]
          },
          "metadata": {},
          "execution_count": 52
        }
      ]
    },
    {
      "cell_type": "markdown",
      "source": [
        "<br>**Idade:** min= 0.42, max= 80, media= 29.69 <br>\n",
        "**Porcentagem de pessoas por sexo:** masculino= 64.75%, feminino= 36.24% <br>\n",
        "**Porcentagem de pessoas por classe:** primeira= 24%, segunda= 20%, terceira= 55% <br>\n",
        "**Taxa de sobrevivencia:** sobreviventes= 38%, não sobreviventes= 62%"
      ],
      "metadata": {
        "id": "d0BtNpUWkwHL"
      }
    },
    {
      "cell_type": "code",
      "source": [
        "sobreviventes = train.loc[train['Survived']  == 1]"
      ],
      "metadata": {
        "id": "GRIOi6Su1sYs"
      },
      "execution_count": 53,
      "outputs": []
    },
    {
      "cell_type": "code",
      "source": [
        "# sexo que mais aparece entre os sobreviventes\n",
        "sobreviventes['Sex'].mode()"
      ],
      "metadata": {
        "id": "TKt3A7Bo1sVs",
        "colab": {
          "base_uri": "https://localhost:8080/"
        },
        "outputId": "aca801fa-261f-4346-bfb6-517ece6fd418"
      },
      "execution_count": 54,
      "outputs": [
        {
          "output_type": "execute_result",
          "data": {
            "text/plain": [
              "0    0\n",
              "Name: Sex, dtype: int64"
            ]
          },
          "metadata": {},
          "execution_count": 54
        }
      ]
    },
    {
      "cell_type": "code",
      "source": [
        "# Porcentagem de sobreviventes mulheres\n",
        "len(sobreviventes.loc[sobreviventes['Sex'] == 0]) / len(sobreviventes)"
      ],
      "metadata": {
        "id": "f9WkPD5A1sN9",
        "colab": {
          "base_uri": "https://localhost:8080/"
        },
        "outputId": "3cbb8252-da4b-4b40-b9e6-83f7ab47bf7a"
      },
      "execution_count": 55,
      "outputs": [
        {
          "output_type": "execute_result",
          "data": {
            "text/plain": [
              "0.6812865497076024"
            ]
          },
          "metadata": {},
          "execution_count": 55
        }
      ]
    },
    {
      "cell_type": "code",
      "source": [
        "# Porcentagem de sobreviventes mulheres\n",
        "len(sobreviventes.loc[sobreviventes['Sex'] == 1]) / len(sobreviventes)"
      ],
      "metadata": {
        "colab": {
          "base_uri": "https://localhost:8080/"
        },
        "id": "GfdxaznMHx31",
        "outputId": "abec652e-976e-4a8a-a88f-253bf33d5c3b"
      },
      "execution_count": 56,
      "outputs": [
        {
          "output_type": "execute_result",
          "data": {
            "text/plain": [
              "0.31871345029239767"
            ]
          },
          "metadata": {},
          "execution_count": 56
        }
      ]
    },
    {
      "cell_type": "markdown",
      "source": [
        "<br>**Conclusão:** Entre os sobreviventes do dataFrame de train o sexo que mais aparece é o feminino 68% contra 32% masculino"
      ],
      "metadata": {
        "id": "8MTSciO7IPtT"
      }
    },
    {
      "cell_type": "code",
      "source": [
        "#disperção dos sobreviventes entre Age e Fare\n",
        "sns.lmplot(x='Age', y='Fare', hue='Survived', data=train, fit_reg=False)\n",
        "plt.title('Idade x Preço do Ticket x Sobrevivente', fontsize=20, fontweight='bold')"
      ],
      "metadata": {
        "colab": {
          "base_uri": "https://localhost:8080/",
          "height": 554
        },
        "id": "QEMzPD29SE13",
        "outputId": "cf5e37c6-2eda-4f47-d363-3a8f495bd627"
      },
      "execution_count": 57,
      "outputs": [
        {
          "output_type": "execute_result",
          "data": {
            "text/plain": [
              "Text(0.5, 1.0, 'Idade x Preço do Ticket x Sobrevivente')"
            ]
          },
          "metadata": {},
          "execution_count": 57
        },
        {
          "output_type": "display_data",
          "data": {
            "text/plain": [
              "<Figure size 572.111x500 with 1 Axes>"
            ],
            "image/png": "[encoded data removed]"
          },
          "metadata": {}
        }
      ]
    },
    {
      "cell_type": "markdown",
      "source": [
        "<br>**Conclusão:** Nesse caso é possível notar que a maioria dos passageiros sobreviventes são mais jovens e que compraram o ticket mais barato<br><br>"
      ],
      "metadata": {
        "id": "IthL0TMzSOX9"
      }
    },
    {
      "cell_type": "code",
      "source": [
        "sns.barplot(x='Sex', y= 'Survived', data=train_original)\n",
        "plt.title('Sobreviventes por sexo', fontsize=20, fontweight='bold')"
      ],
      "metadata": {
        "colab": {
          "base_uri": "https://localhost:8080/",
          "height": 497
        },
        "id": "lmVMnfXZqv3_",
        "outputId": "32da3dea-a659-4d93-f3ed-7acb852027ef"
      },
      "execution_count": 62,
      "outputs": [
        {
          "output_type": "execute_result",
          "data": {
            "text/plain": [
              "Text(0.5, 1.0, 'Sobreviventes por sexo')"
            ]
          },
          "metadata": {},
          "execution_count": 62
        },
        {
          "output_type": "display_data",
          "data": {
            "text/plain": [
              "<Figure size 640x480 with 1 Axes>"
            ],
            "image/png": "[encoded data removed]"
          },
          "metadata": {}
        }
      ]
    },
    {
      "cell_type": "markdown",
      "source": [
        "<br>**Conclusão:** Pelo gráfico de barras é possível ver que a quantidade de mulheres sobreviventes é bem maior que a dos homens.<br><br>"
      ],
      "metadata": {
        "id": "RfwYA3T5UD3v"
      }
    },
    {
      "cell_type": "code",
      "source": [
        "sns.barplot(data=train_original, x='Pclass', y= 'Survived', hue='Sex')\n",
        "plt.title('Sobreviventes por sexo x classe social', fontsize=20, fontweight='bold')"
      ],
      "metadata": {
        "colab": {
          "base_uri": "https://localhost:8080/",
          "height": 497
        },
        "id": "EPKTm1Ip_eSc",
        "outputId": "c73c73de-2cdb-4443-8a73-062c003f54d6"
      },
      "execution_count": 61,
      "outputs": [
        {
          "output_type": "execute_result",
          "data": {
            "text/plain": [
              "Text(0.5, 1.0, 'Sobreviventes por sexo x classe social')"
            ]
          },
          "metadata": {},
          "execution_count": 61
        },
        {
          "output_type": "display_data",
          "data": {
            "text/plain": [
              "<Figure size 640x480 with 1 Axes>"
            ],
            "image/png": "[encoded data removed]"
          },
          "metadata": {}
        }
      ]
    },
    {
      "cell_type": "markdown",
      "source": [
        "<br>**Conclusão:** Em todas as classes a quantidade de  mulheres sobreviventes é bem maior que a dos homens, a primeira classe mesmo tendo menos passageiros que as outras é a que teve mais sobreviventes"
      ],
      "metadata": {
        "id": "SG7AqUnuO3zz"
      }
    },
    {
      "cell_type": "code",
      "source": [
        "figure = plt.figure(figsize=(15,8))\n",
        "plt.hist([treino_numerico[treino_numerico['Survived']==1]['Age'], treino_numerico[treino_numerico['Survived']==0]['Age']],\n",
        "         stacked=True, color=['blue', 'orange'],\n",
        "         bins=10, label=['Sobreviventes','Não-Sobreviventes'])\n",
        "plt.xlabel('Idade')\n",
        "plt.ylabel('quantidade passageiros')\n",
        "plt.title('Sobreviventes x Não sobreviventes por idade', fontsize=20, fontweight='bold')\n",
        "plt.legend()\n"
      ],
      "metadata": {
        "colab": {
          "base_uri": "https://localhost:8080/",
          "height": 744
        },
        "id": "_m9fVxM6tyEv",
        "outputId": "f699f123-31d8-4e04-c432-6e1e5691ade1"
      },
      "execution_count": 60,
      "outputs": [
        {
          "output_type": "execute_result",
          "data": {
            "text/plain": [
              "<matplotlib.legend.Legend at 0x7fac35a254b0>"
            ]
          },
          "metadata": {},
          "execution_count": 60
        },
        {
          "output_type": "display_data",
          "data": {
            "text/plain": [
              "<Figure size 1500x800 with 1 Axes>"
            ],
            "image/png": "[encoded data removed]"
          },
          "metadata": {}
        }
      ]
    },
    {
      "cell_type": "markdown",
      "source": [
        "**Conclusão:** Baseado nos gráficos é possível notar que abaixo dos 30 anos é onde aparece a maior quantidade de sobreviventes."
      ],
      "metadata": {
        "id": "gca4327gKbZk"
      }
    },
    {
      "cell_type": "markdown",
      "source": [
        "<br> **Taxa de sobrevivência**"
      ],
      "metadata": {
        "id": "D2m-EZKvTl1i"
      }
    },
    {
      "cell_type": "markdown",
      "source": [
        "**Sexo**"
      ],
      "metadata": {
        "id": "KObhXJF6SdnA"
      }
    },
    {
      "cell_type": "code",
      "source": [
        "#taxa de sobrevivência de mulheres\n",
        "ts_mulher = train.loc[train['Sex'] == 0]\n",
        "ts_mulher = ts_mulher.loc[ts_mulher['Survived'] == 1]\n",
        "len(ts_mulher.index) / len(train.loc[train['Sex'] == 0].index) * 100"
      ],
      "metadata": {
        "colab": {
          "base_uri": "https://localhost:8080/"
        },
        "id": "F5hO0oFLF3v8",
        "outputId": "e2d7dd56-df25-416f-e435-223a04bcfd3d"
      },
      "execution_count": 63,
      "outputs": [
        {
          "output_type": "execute_result",
          "data": {
            "text/plain": [
              "74.20382165605095"
            ]
          },
          "metadata": {},
          "execution_count": 63
        }
      ]
    },
    {
      "cell_type": "code",
      "source": [
        "#taxa de sobrevivência de homens\n",
        "ts_homens = train.loc[train['Sex'] == 1]\n",
        "ts_homens = ts_homens.loc[ts_homens['Survived'] == 1]\n",
        "len(ts_homens.index) * 100 / len(train.loc[train['Sex'] == 1].index)"
      ],
      "metadata": {
        "colab": {
          "base_uri": "https://localhost:8080/"
        },
        "id": "4SJB2A5fNmJO",
        "outputId": "48162f0d-cb8c-432d-96c1-c9aa86df5bcf"
      },
      "execution_count": 64,
      "outputs": [
        {
          "output_type": "execute_result",
          "data": {
            "text/plain": [
              "18.890814558058924"
            ]
          },
          "metadata": {},
          "execution_count": 64
        }
      ]
    },
    {
      "cell_type": "markdown",
      "source": [
        "<br>**Classe**"
      ],
      "metadata": {
        "id": "5fdIH0-VSgYo"
      }
    },
    {
      "cell_type": "code",
      "source": [
        "#taxa de sobrevivência de pessoas da primeira classe\n",
        "pessoas1 = train.loc[train['Pclass'] == 1]\n",
        "pessoas1Sobreviventes = pessoas1.loc[pessoas1['Survived'] == 1]\n",
        "len(pessoas1Sobreviventes.index) * 100 / len(pessoas1.index)\n"
      ],
      "metadata": {
        "colab": {
          "base_uri": "https://localhost:8080/"
        },
        "id": "pdToywLSRRVA",
        "outputId": "b59af4e7-cc05-4b96-ce1b-44403fe0efd4"
      },
      "execution_count": 65,
      "outputs": [
        {
          "output_type": "execute_result",
          "data": {
            "text/plain": [
              "62.96296296296296"
            ]
          },
          "metadata": {},
          "execution_count": 65
        }
      ]
    },
    {
      "cell_type": "code",
      "source": [
        "#taxa de sobrevivência de pessoas da segunda classe\n",
        "pessoas2 = train.loc[train['Pclass'] == 2]\n",
        "pessoas2Sobreviventes = pessoas2.loc[pessoas2['Survived'] == 1]\n",
        "len(pessoas2Sobreviventes.index) * 100 / len(pessoas2.index)"
      ],
      "metadata": {
        "colab": {
          "base_uri": "https://localhost:8080/"
        },
        "id": "14tu6onPRcOf",
        "outputId": "7635fd7d-93de-433a-bfaf-6370d3222a7c"
      },
      "execution_count": 66,
      "outputs": [
        {
          "output_type": "execute_result",
          "data": {
            "text/plain": [
              "47.28260869565217"
            ]
          },
          "metadata": {},
          "execution_count": 66
        }
      ]
    },
    {
      "cell_type": "code",
      "source": [
        "#taxa de sobrevivência de pessoas da terceira classe^\n",
        "pessoas3 = train.loc[train['Pclass'] == 3]\n",
        "pessoas3Sobreviventes = pessoas3.loc[pessoas3['Survived'] == 1]\n",
        "len(pessoas3Sobreviventes.index) * 100 / len(pessoas3.index)"
      ],
      "metadata": {
        "colab": {
          "base_uri": "https://localhost:8080/"
        },
        "id": "aJrYQyX5RcBQ",
        "outputId": "11db2a34-fb88-45e3-aacc-1273ac615b84"
      },
      "execution_count": 67,
      "outputs": [
        {
          "output_type": "execute_result",
          "data": {
            "text/plain": [
              "24.236252545824847"
            ]
          },
          "metadata": {},
          "execution_count": 67
        }
      ]
    },
    {
      "cell_type": "markdown",
      "source": [
        "<br>**Idade**"
      ],
      "metadata": {
        "id": "_1oJf9wvUZew"
      }
    },
    {
      "cell_type": "code",
      "source": [
        "#taxa de sobrevivência de crianças e adolecentes\n",
        "criancas = train.loc[train['Age'] < 18]\n",
        "criancasSobreviventes = criancas.loc[criancas['Survived'] == 1]\n",
        "len(criancasSobreviventes.index) * 100 / len(criancas.index)"
      ],
      "metadata": {
        "colab": {
          "base_uri": "https://localhost:8080/"
        },
        "id": "KB3kcR7BUmwg",
        "outputId": "ade89717-ab9d-4f8b-fc04-82b8119b6b79"
      },
      "execution_count": 68,
      "outputs": [
        {
          "output_type": "execute_result",
          "data": {
            "text/plain": [
              "53.982300884955755"
            ]
          },
          "metadata": {},
          "execution_count": 68
        }
      ]
    },
    {
      "cell_type": "code",
      "source": [
        "#taxa de sobrevivência de adultos\n",
        "adultos = train.loc[train['Age'] < 60]\n",
        "adultos = adultos.loc[adultos['Age'] >= 18]\n",
        "adultosSobreviventes = adultos.loc[adultos['Survived'] == 1]\n",
        "len(adultosSobreviventes.index) * 100 / len(adultos.index)"
      ],
      "metadata": {
        "colab": {
          "base_uri": "https://localhost:8080/"
        },
        "id": "iWiXmGrBaPNS",
        "outputId": "575701c8-34f4-4787-ad1f-bd1cae108d9e"
      },
      "execution_count": 69,
      "outputs": [
        {
          "output_type": "execute_result",
          "data": {
            "text/plain": [
              "36.43617021276596"
            ]
          },
          "metadata": {},
          "execution_count": 69
        }
      ]
    },
    {
      "cell_type": "code",
      "source": [
        "#taxa de sobrevivência de idosos\n",
        "idosos = train.loc[train['Age'] >= 60]\n",
        "idososSobreviventes = idosos.loc[idosos['Survived'] == 1]\n",
        "len(idososSobreviventes.index) * 100 / len(idosos.index)"
      ],
      "metadata": {
        "colab": {
          "base_uri": "https://localhost:8080/"
        },
        "id": "SzMUJeQNbC7i",
        "outputId": "f58dc82a-3fc8-4511-a39b-f5f4a201beb2"
      },
      "execution_count": 70,
      "outputs": [
        {
          "output_type": "execute_result",
          "data": {
            "text/plain": [
              "26.923076923076923"
            ]
          },
          "metadata": {},
          "execution_count": 70
        }
      ]
    },
    {
      "cell_type": "markdown",
      "source": [
        "<br>**Taxa de sobrevivência:**<br>\n",
        "**Mulheres:** 74.20%<br>\n",
        "**Homens:** 18.89%<br>\n",
        "**primeira classe:** 62.96%<br>\n",
        "**segunda classe:** 47.28%<br>\n",
        "**terceira classe:** 24.23%<br>\n",
        "**crianças e adolecentes:** 53.98%<br>\n",
        "**adultos:** 36.43%<br>\n",
        "**idosos:** 26.92%<br>"
      ],
      "metadata": {
        "id": "_kZ1GYdvb96C"
      }
    },
    {
      "cell_type": "markdown",
      "source": [
        "#<br><br>**Medidas de Tendência Central e Medidas de Dispersão:**"
      ],
      "metadata": {
        "id": "p7lpjKiuXg8u"
      }
    },
    {
      "cell_type": "markdown",
      "source": [
        "#<br>1. Calcule a média de idades dos passageiros e identifique possíveis diferenças entre os grupos de sobreviventes e não sobreviventes."
      ],
      "metadata": {
        "id": "60K9B5VaXk8K"
      }
    },
    {
      "cell_type": "code",
      "source": [
        "#média de idade\n",
        "train_original['Age'].mean()"
      ],
      "metadata": {
        "colab": {
          "base_uri": "https://localhost:8080/"
        },
        "id": "oq4GnaDMmpmN",
        "outputId": "f2f220e9-ed73-48cd-9111-82cb474b75ad"
      },
      "execution_count": 72,
      "outputs": [
        {
          "output_type": "execute_result",
          "data": {
            "text/plain": [
              "29.69911764705882"
            ]
          },
          "metadata": {},
          "execution_count": 72
        }
      ]
    },
    {
      "cell_type": "code",
      "source": [
        "#média de idade dos sobreviventes\n",
        "sobreviventes = train_original.loc[train_original['Survived'] == 1]\n",
        "sobreviventes['Age'].mean()"
      ],
      "metadata": {
        "colab": {
          "base_uri": "https://localhost:8080/"
        },
        "id": "bYLBI4NAytH0",
        "outputId": "5d42f419-aa93-42e8-abaa-6475ef1adf3f"
      },
      "execution_count": 73,
      "outputs": [
        {
          "output_type": "execute_result",
          "data": {
            "text/plain": [
              "28.343689655172415"
            ]
          },
          "metadata": {},
          "execution_count": 73
        }
      ]
    },
    {
      "cell_type": "code",
      "source": [
        "#média de idade dos não sobreviventes\n",
        "naoSobreviventes = train_original.loc[train_original['Survived'] == 0]\n",
        "naoSobreviventes['Age'].mean()"
      ],
      "metadata": {
        "colab": {
          "base_uri": "https://localhost:8080/"
        },
        "id": "Ty9HZsKJOwIH",
        "outputId": "0d9ed662-c901-4c1e-cc4f-1c21f7198cd7"
      },
      "execution_count": 74,
      "outputs": [
        {
          "output_type": "execute_result",
          "data": {
            "text/plain": [
              "30.62617924528302"
            ]
          },
          "metadata": {},
          "execution_count": 74
        }
      ]
    },
    {
      "cell_type": "markdown",
      "source": [
        "<br>A média de idade entre os passageiros é de 29.69.<br>\n",
        "A média de idade dos sobreviventes é de 28.34<br>\n",
        "A média de idade dos não sobreviventes é de 30.62.<br>\n",
        "Isso significa que pessoas mais jovens tiveram mais chances de sobrevivência"
      ],
      "metadata": {
        "id": "fngdoimltETy"
      }
    },
    {
      "cell_type": "markdown",
      "source": [
        "#<br>2. Determine a variação da tarifa paga pelos passageiros e compare-a entre grupos."
      ],
      "metadata": {
        "id": "NuBM-q3vYwGI"
      }
    },
    {
      "cell_type": "code",
      "source": [
        "# Variancia e Desvio Padrão do valor dos tickets\n",
        "fareVariancia = np.var(train['Fare'])\n",
        "fareDesvio = np.std(train['Fare'])\n",
        "print('Variancia: ', fareVariancia,', Desvio Padrão: ', fareDesvio)"
      ],
      "metadata": {
        "colab": {
          "base_uri": "https://localhost:8080/"
        },
        "id": "0H9ulleRHYDH",
        "outputId": "96bad8be-3f5f-45c2-b863-36fc58132f93"
      },
      "execution_count": 75,
      "outputs": [
        {
          "output_type": "stream",
          "name": "stdout",
          "text": [
            "Variancia:  2466.665311685043 , Desvio Padrão:  49.6655344447741\n"
          ]
        }
      ]
    },
    {
      "cell_type": "code",
      "source": [
        "# Variancia e Desvio Padrão do valor dos tickets da primeira classe\n",
        "classe1 = train.loc[train['Pclass'] == 1]\n",
        "classe1Var = np.var(classe1['Fare'])\n",
        "classe1std = np.std(classe1['Fare'])\n",
        "print('Variancia: ', classe1Var, ', Desvio Padrão: ', classe1std)"
      ],
      "metadata": {
        "colab": {
          "base_uri": "https://localhost:8080/"
        },
        "id": "U-b8oQBVI28B",
        "outputId": "b1dce0d5-78cb-4db6-d61e-31fac0064d82"
      },
      "execution_count": 76,
      "outputs": [
        {
          "output_type": "stream",
          "name": "stdout",
          "text": [
            "Variancia:  6115.040766164889 , Desvio Padrão:  78.19872611599814\n"
          ]
        }
      ]
    },
    {
      "cell_type": "code",
      "source": [
        "# Variancia e Desvio Padrão do valor dos tickets da segunda classe\n",
        "classe2 = train.loc[train['Pclass'] == 2]\n",
        "classe2Var = np.var(classe2['Fare'])\n",
        "classe2std = np.std(classe2['Fare'])\n",
        "print('Variancia: ', classe2Var, ', Desvio Padrão: ', classe2std)"
      ],
      "metadata": {
        "colab": {
          "base_uri": "https://localhost:8080/"
        },
        "id": "72QKu65bLTSM",
        "outputId": "c0ee6b55-6e03-43d9-a120-c71796f6fdbf"
      },
      "execution_count": 77,
      "outputs": [
        {
          "output_type": "stream",
          "name": "stdout",
          "text": [
            "Variancia:  179.04818400444444 , Desvio Padrão:  13.380888759886036\n"
          ]
        }
      ]
    },
    {
      "cell_type": "code",
      "source": [
        "# Variancia e Desvio Padrão do valor dos tickets da terceira classe\n",
        "classe3 = train.loc[train['Pclass'] == 3]\n",
        "classe3Var = np.var(classe3['Fare'])\n",
        "classe3std = np.std(classe3['Fare'])\n",
        "print('Variancia: ', classe3Var, ', Desvio Padrão: ', classe3std)"
      ],
      "metadata": {
        "colab": {
          "base_uri": "https://localhost:8080/"
        },
        "id": "403JdTCELSU2",
        "outputId": "841b96cf-ed8f-4043-bb2d-c6b69632c3c8"
      },
      "execution_count": 78,
      "outputs": [
        {
          "output_type": "stream",
          "name": "stdout",
          "text": [
            "Variancia:  138.44208713691953 , Desvio Padrão:  11.76614155689619\n"
          ]
        }
      ]
    },
    {
      "cell_type": "markdown",
      "source": [
        "<br>**Todos os tickets**: variância= 2466.66, Desvio padrão= 49.66<br>\n",
        "**Primeira classe**: variância= 6115.04, Desvio padrão= 78.19<br>\n",
        "**Segunda classe**: variância= 6115.04, Desvio padrão= 13.38<br>\n",
        "**Terceira classe**: variância= 6115.04, Desvio padrão= 11.76<br>\n",
        "A primeira classe é a que apresenta a maior variação entre os preços dos tickets provavelmente por apresentar mais níveis de luxo, já a segunda e terceira classe aparentam ser mais padronizadas por apresentar uma menor desvio nos preços\n"
      ],
      "metadata": {
        "id": "UXawQL1KL1au"
      }
    },
    {
      "cell_type": "markdown",
      "source": [
        "#<br>3. Calcule a porcentagem de sobreviventes em cada classe socioeconômica e explore as diferenças entre elas."
      ],
      "metadata": {
        "id": "2NWXwk6EYxal"
      }
    },
    {
      "cell_type": "code",
      "source": [
        "#taxa de sobrevivência de pessoas da primeira classe\n",
        "pessoas1 = train.loc[train['Pclass'] == 1]\n",
        "pessoas1Sobreviventes = pessoas1.loc[pessoas1['Survived'] == 1]\n",
        "len(pessoas1Sobreviventes.index) * 100 / len(pessoas1.index)"
      ],
      "metadata": {
        "colab": {
          "base_uri": "https://localhost:8080/"
        },
        "id": "rkwZj64gm6IB",
        "outputId": "31ff34f9-3505-487f-f88a-5400bfe5a5c1"
      },
      "execution_count": 82,
      "outputs": [
        {
          "output_type": "execute_result",
          "data": {
            "text/plain": [
              "62.96296296296296"
            ]
          },
          "metadata": {},
          "execution_count": 82
        }
      ]
    },
    {
      "cell_type": "code",
      "source": [
        "#taxa de sobrevivência de pessoas da segunda classe\n",
        "pessoas2 = train.loc[train['Pclass'] == 2]\n",
        "pessoas2Sobreviventes = pessoas2.loc[pessoas2['Survived'] == 1]\n",
        "len(pessoas2Sobreviventes.index) * 100 / len(pessoas2.index)"
      ],
      "metadata": {
        "colab": {
          "base_uri": "https://localhost:8080/"
        },
        "id": "O5WKEYQjnA6-",
        "outputId": "07d8252d-85bb-4bc6-e631-aa027fcff4b1"
      },
      "execution_count": 80,
      "outputs": [
        {
          "output_type": "execute_result",
          "data": {
            "text/plain": [
              "47.28260869565217"
            ]
          },
          "metadata": {},
          "execution_count": 80
        }
      ]
    },
    {
      "cell_type": "code",
      "source": [
        "#taxa de sobrevivência de pessoas da terceira classe\n",
        "pessoas3 = train.loc[train['Pclass'] == 3]\n",
        "pessoas3Sobreviventes = pessoas3.loc[pessoas3['Survived'] == 1]\n",
        "len(pessoas3Sobreviventes.index) * 100 / len(pessoas3.index)"
      ],
      "metadata": {
        "colab": {
          "base_uri": "https://localhost:8080/"
        },
        "id": "6w4EG2-hnAwz",
        "outputId": "05397f7c-b076-4175-af58-30d7b2df7a88"
      },
      "execution_count": 81,
      "outputs": [
        {
          "output_type": "execute_result",
          "data": {
            "text/plain": [
              "24.236252545824847"
            ]
          },
          "metadata": {},
          "execution_count": 81
        }
      ]
    },
    {
      "cell_type": "markdown",
      "source": [
        "<br>**Porcentagem de sobreviventes das pessoas que embarcaram em cada classe:**<br>\n",
        "**primeira classe:** 62.96%<br>\n",
        "**segunda classe:** 47.28%<br>\n",
        "**terceira classe:** 24.23%<br>\n",
        "A porcentagem de sobreviventes escala de acordo com sua classe, quanto mais alta é a classe maior é a probabilidade de sobrevivência"
      ],
      "metadata": {
        "id": "8bErfzdYrd7N"
      }
    },
    {
      "cell_type": "markdown",
      "source": [
        "#<br><br>**Amostragem e Probabilidade:**"
      ],
      "metadata": {
        "id": "Atq3heddWuiu"
      }
    },
    {
      "cell_type": "markdown",
      "source": [
        "**Amostras para Regressão Linear**"
      ],
      "metadata": {
        "id": "xCfXcYcnBzI9"
      }
    },
    {
      "cell_type": "code",
      "source": [
        "#Pegando as variaveis\n",
        "y_survived = np.array(treino_numerico['Survived'])\n",
        "X_todos =  np.array(treino_numerico.drop('Survived', axis=1))\n",
        "X_age = np.array(treino_numerico['Age']).reshape(-1, 1)\n",
        "X_sex = np.array(treino_numerico['Sex']).reshape(-1, 1)\n",
        "X_pclass = np.array(treino_numerico['Pclass']).reshape(-1, 1)\n",
        "X_fare = np.array(treino_numerico['Fare']).reshape(-1, 1)"
      ],
      "metadata": {
        "id": "HOOOiBaynxCg"
      },
      "execution_count": 83,
      "outputs": []
    },
    {
      "cell_type": "code",
      "source": [
        "#Criando as amostras\n",
        "X_train_todos, X_validacao_todos, y_train_todos, y_validacao_todos = train_test_split(X_todos, y_survived, test_size=0.3, random_state=42)\n",
        "\n",
        "X_train_age, X_validacao_age, y_train_age, y_validacao_age = train_test_split(X_age, y_survived, test_size=0.3, random_state=42)\n",
        "\n",
        "X_train_sex, X_validacao_sex, y_train_sex, y_validacao_sex = train_test_split(X_sex, y_survived, test_size=0.3, random_state=42)\n",
        "\n",
        "X_train_pclass, X_validacao_pclass, y_train_pclass, y_validacao_pclass = train_test_split(X_pclass, y_survived, test_size=0.3, random_state=42)\n",
        "\n",
        "X_train_fare, X_validacao_fare, y_train_fare, y_validacao_fare = train_test_split(X_fare, y_survived, test_size=0.3, random_state=42)"
      ],
      "metadata": {
        "id": "e9RQcgbF8PPe"
      },
      "execution_count": 154,
      "outputs": []
    },
    {
      "cell_type": "markdown",
      "source": [
        "<br>**Amostras para Machine Learning**"
      ],
      "metadata": {
        "id": "utmm00B8B8y0"
      }
    },
    {
      "cell_type": "code",
      "source": [
        "#separando o treino em X e y\n",
        "X = treino_numerico.drop(['PassengerId', 'Survived'], axis=1)\n",
        "y = treino_numerico['Survived']"
      ],
      "metadata": {
        "id": "Frh2YXNu9hA-"
      },
      "execution_count": 85,
      "outputs": []
    },
    {
      "cell_type": "code",
      "source": [
        "#criando as amostras\n",
        "X_train, X_validacao, y_train, y_validacao = train_test_split(X, y, test_size=0.3, random_state=42)"
      ],
      "metadata": {
        "id": "ynqGP8GXaOoT"
      },
      "execution_count": 86,
      "outputs": []
    },
    {
      "cell_type": "code",
      "source": [
        "X_train2, X_validacao2, y_train2, y_validacao2 = train_test_split(X, y, test_size=0.2, random_state=42)"
      ],
      "metadata": {
        "id": "p0FXnW7FBqCx"
      },
      "execution_count": 87,
      "outputs": []
    },
    {
      "cell_type": "code",
      "source": [
        "X_train3, X_validacao3, y_train3, y_validacao3 = train_test_split(X, y, test_size=0.4, random_state=42)"
      ],
      "metadata": {
        "id": "fHnQfM_2Bq2U"
      },
      "execution_count": 88,
      "outputs": []
    },
    {
      "cell_type": "code",
      "source": [
        "test_final = teste_numerico.drop('PassengerId', axis=1)"
      ],
      "metadata": {
        "id": "uixQ0OGPkFgx"
      },
      "execution_count": 89,
      "outputs": []
    },
    {
      "cell_type": "markdown",
      "source": [
        "<br> o tamanho da amosta \"test_size\" que teve o melhor resultado nos meus testes foi o de 0.3, ou seja uma amostra de 30% da uma boa representatividade"
      ],
      "metadata": {
        "id": "lIsAbRyx_SBk"
      }
    },
    {
      "cell_type": "markdown",
      "source": [
        "<br>**Probabilidade**"
      ],
      "metadata": {
        "id": "7sHCDekJXNXM"
      }
    },
    {
      "cell_type": "code",
      "source": [
        "# Pegando uma amostra aleatória simples\n",
        "amostra = train.sample(100)"
      ],
      "metadata": {
        "id": "dCqJDNgj4Y-u"
      },
      "execution_count": 108,
      "outputs": []
    },
    {
      "cell_type": "markdown",
      "source": [
        "<br>**Genero**"
      ],
      "metadata": {
        "id": "I_eOGklmy6wY"
      }
    },
    {
      "cell_type": "code",
      "source": [
        "# Separando por sexo\n",
        "mulheres = amostra.loc[amostra['Sex'] == 0]\n",
        "homens = amostra.loc[amostra['Sex'] == 1]"
      ],
      "metadata": {
        "id": "yRW6rkW9lCd0"
      },
      "execution_count": 109,
      "outputs": []
    },
    {
      "cell_type": "code",
      "source": [
        "# Pegando a quantidade de pessoas separanda por sexo\n",
        "quantidade_mulheres = len(amostra.loc[amostra['Sex'] == 0])\n",
        "quantidade_homens = len(amostra.loc[amostra['Sex'] == 1])"
      ],
      "metadata": {
        "id": "gKX3RKlf6Z70"
      },
      "execution_count": 110,
      "outputs": []
    },
    {
      "cell_type": "code",
      "source": [
        "#Pegando a quantidade de sobreviventes\n",
        "quantidade_evento_mulheres = len(mulheres.loc[train['Survived'] == 1])\n",
        "quantidade_evento_homens = len(homens.loc[train['Survived'] == 1])"
      ],
      "metadata": {
        "id": "nlPIk273tVjJ"
      },
      "execution_count": 111,
      "outputs": []
    },
    {
      "cell_type": "code",
      "source": [
        "# Probabilidade de sobrevivencia das mulheres\n",
        "probabilidade_mulheres = quantidade_evento_mulheres / quantidade_mulheres\n",
        "probabilidade_mulheres"
      ],
      "metadata": {
        "colab": {
          "base_uri": "https://localhost:8080/"
        },
        "id": "6Bj8BdJ2qYeK",
        "outputId": "7c55966f-e020-43e0-813f-1887d6fff73a"
      },
      "execution_count": 112,
      "outputs": [
        {
          "output_type": "execute_result",
          "data": {
            "text/plain": [
              "0.7435897435897436"
            ]
          },
          "metadata": {},
          "execution_count": 112
        }
      ]
    },
    {
      "cell_type": "code",
      "source": [
        "# Probabilidade de sobrevivencia dos homens\n",
        "probabilidade_homens = quantidade_evento_homens / quantidade_homens\n",
        "probabilidade_homens"
      ],
      "metadata": {
        "colab": {
          "base_uri": "https://localhost:8080/"
        },
        "id": "as0uqdCHuaRQ",
        "outputId": "aa790cf2-9906-49ec-919f-76e1e5bab1e2"
      },
      "execution_count": 113,
      "outputs": [
        {
          "output_type": "execute_result",
          "data": {
            "text/plain": [
              "0.19672131147540983"
            ]
          },
          "metadata": {},
          "execution_count": 113
        }
      ]
    },
    {
      "cell_type": "markdown",
      "source": [
        "<br>**Classe**"
      ],
      "metadata": {
        "id": "rJliLn6P2ene"
      }
    },
    {
      "cell_type": "code",
      "source": [
        "# Separando por classe\n",
        "classe1 = amostra.loc[amostra['Pclass'] == 1]\n",
        "classe2 = amostra.loc[amostra['Pclass'] == 2]\n",
        "classe3 = amostra.loc[amostra['Pclass'] == 3]"
      ],
      "metadata": {
        "id": "BItMmnAp2eJK"
      },
      "execution_count": 114,
      "outputs": []
    },
    {
      "cell_type": "code",
      "source": [
        "# Pegando a quantidade de sobreviventes\n",
        "quantidade_evento_classe1 = len(classe1.loc[classe1['Survived'] == 1])\n",
        "quantidade_evento_classe2 = len(classe2.loc[classe2['Survived'] == 1])\n",
        "quantidade_evento_classe3 = len(classe3.loc[classe3['Survived'] == 1])"
      ],
      "metadata": {
        "id": "i735nj0I2eGB"
      },
      "execution_count": 115,
      "outputs": []
    },
    {
      "cell_type": "code",
      "source": [
        "# Pegando a quantidade de pessoas\n",
        "quantidade_classe1 = len(classe1)\n",
        "quantidade_classe2 = len(classe2)\n",
        "quantidade_classe3 = len(classe3)"
      ],
      "metadata": {
        "id": "oowCVl1i34W2"
      },
      "execution_count": 116,
      "outputs": []
    },
    {
      "cell_type": "code",
      "source": [
        "# Probabilidade de sobrevivência primeira classe\n",
        "probabilidade_classe1 = quantidade_evento_classe1 / quantidade_classe1\n",
        "probabilidade_classe1"
      ],
      "metadata": {
        "colab": {
          "base_uri": "https://localhost:8080/"
        },
        "id": "tVpzsmtT2eAH",
        "outputId": "c2abe7e2-66f7-4321-966f-f8421df40452"
      },
      "execution_count": 117,
      "outputs": [
        {
          "output_type": "execute_result",
          "data": {
            "text/plain": [
              "0.8"
            ]
          },
          "metadata": {},
          "execution_count": 117
        }
      ]
    },
    {
      "cell_type": "code",
      "source": [
        "# Probabilidade de sobrevivência segunda classe\n",
        "probabilidade_classe2 = quantidade_evento_classe2 / quantidade_classe2\n",
        "probabilidade_classe2"
      ],
      "metadata": {
        "colab": {
          "base_uri": "https://localhost:8080/"
        },
        "id": "iK0qgNpz2d8_",
        "outputId": "629dbfd7-1022-40a0-8d55-16ab3edda812"
      },
      "execution_count": 118,
      "outputs": [
        {
          "output_type": "execute_result",
          "data": {
            "text/plain": [
              "0.3684210526315789"
            ]
          },
          "metadata": {},
          "execution_count": 118
        }
      ]
    },
    {
      "cell_type": "code",
      "source": [
        "# Probabilidade de sobrevivência terceira classe\n",
        "probabilidade_classe3 = quantidade_evento_classe3 / quantidade_classe3\n",
        "probabilidade_classe3"
      ],
      "metadata": {
        "colab": {
          "base_uri": "https://localhost:8080/"
        },
        "id": "Tcf6TDT42d5w",
        "outputId": "ccb9d54a-a2ca-40a0-f253-3669930f5c72"
      },
      "execution_count": 119,
      "outputs": [
        {
          "output_type": "execute_result",
          "data": {
            "text/plain": [
              "0.19607843137254902"
            ]
          },
          "metadata": {},
          "execution_count": 119
        }
      ]
    },
    {
      "cell_type": "markdown",
      "source": [
        "<br>**Probabilidade Conjunta de sobrevivência**"
      ],
      "metadata": {
        "id": "byiVVppZ4ypu"
      }
    },
    {
      "cell_type": "code",
      "source": [
        "probabilidade_homens * probabilidade_classe1"
      ],
      "metadata": {
        "colab": {
          "base_uri": "https://localhost:8080/"
        },
        "id": "f5UXhDmy2d2v",
        "outputId": "c7a09511-0263-4aed-d9c2-e0e8be70946a"
      },
      "execution_count": 126,
      "outputs": [
        {
          "output_type": "execute_result",
          "data": {
            "text/plain": [
              "0.15737704918032788"
            ]
          },
          "metadata": {},
          "execution_count": 126
        }
      ]
    },
    {
      "cell_type": "code",
      "source": [
        "probabilidade_homens * probabilidade_classe2"
      ],
      "metadata": {
        "colab": {
          "base_uri": "https://localhost:8080/"
        },
        "id": "D-xCrUzV2dkF",
        "outputId": "25a9ac32-2890-4800-babe-85f16f45de29"
      },
      "execution_count": 127,
      "outputs": [
        {
          "output_type": "execute_result",
          "data": {
            "text/plain": [
              "0.0724762726488352"
            ]
          },
          "metadata": {},
          "execution_count": 127
        }
      ]
    },
    {
      "cell_type": "code",
      "source": [
        "probabilidade_homens * probabilidade_classe3"
      ],
      "metadata": {
        "colab": {
          "base_uri": "https://localhost:8080/"
        },
        "id": "ldOS9igS5d6m",
        "outputId": "5f235380-7a6f-4fad-f511-8538424d13e3"
      },
      "execution_count": 128,
      "outputs": [
        {
          "output_type": "execute_result",
          "data": {
            "text/plain": [
              "0.03857280617164899"
            ]
          },
          "metadata": {},
          "execution_count": 128
        }
      ]
    },
    {
      "cell_type": "code",
      "source": [
        "probabilidade_mulheres * probabilidade_classe1"
      ],
      "metadata": {
        "colab": {
          "base_uri": "https://localhost:8080/"
        },
        "id": "EjWgeFie5dxm",
        "outputId": "54c6ba42-eb1d-48e4-debb-94323e29c932"
      },
      "execution_count": 129,
      "outputs": [
        {
          "output_type": "execute_result",
          "data": {
            "text/plain": [
              "0.5948717948717949"
            ]
          },
          "metadata": {},
          "execution_count": 129
        }
      ]
    },
    {
      "cell_type": "code",
      "source": [
        "probabilidade_mulheres * probabilidade_classe2"
      ],
      "metadata": {
        "colab": {
          "base_uri": "https://localhost:8080/"
        },
        "id": "EascsC8Q5do2",
        "outputId": "4eb64789-c504-4ea7-d72d-1a02af577007"
      },
      "execution_count": 130,
      "outputs": [
        {
          "output_type": "execute_result",
          "data": {
            "text/plain": [
              "0.2739541160593792"
            ]
          },
          "metadata": {},
          "execution_count": 130
        }
      ]
    },
    {
      "cell_type": "code",
      "source": [
        "probabilidade_mulheres * probabilidade_classe3"
      ],
      "metadata": {
        "colab": {
          "base_uri": "https://localhost:8080/"
        },
        "id": "_URy4O955dd-",
        "outputId": "7505b12f-dd9c-4f1b-cd7f-02b45a88162d"
      },
      "execution_count": 131,
      "outputs": [
        {
          "output_type": "execute_result",
          "data": {
            "text/plain": [
              "0.14580191050779287"
            ]
          },
          "metadata": {},
          "execution_count": 131
        }
      ]
    },
    {
      "cell_type": "markdown",
      "source": [
        "<br>**Conclusão:** com base na amostra, as probabilidades de sobrevivência foram:<br>\n",
        "**genero:** Mulheres= 74%, Homens= 19% <br>\n",
        "**Classe:** primeira= 80%, Segunda= 36%, terceira= 19%<br>\n",
        "**Probabilidade conjunta:**<br>\n",
        "Homens da primeira classe= 15%<br>\n",
        "Homens da segunda classe= 7%<br>\n",
        "Homens da terceira classe= 3%<br>\n",
        "Mulheres da primeira classe= 59%<br>\n",
        "Mulheres da segunda classe= 27%<br>\n",
        "Mulheres da terceira classe= 14%"
      ],
      "metadata": {
        "id": "T9miRbOt12sW"
      }
    },
    {
      "cell_type": "markdown",
      "source": [
        "#<br><br>**Regressão Linear:**"
      ],
      "metadata": {
        "id": "2x2jOFZuAiUv"
      }
    },
    {
      "cell_type": "markdown",
      "source": [
        "**Todos X Survived**"
      ],
      "metadata": {
        "id": "5fU4fCBCEtoU"
      }
    },
    {
      "cell_type": "code",
      "source": [
        "#Criar o modelo\n",
        "modelo_todos = LinearRegression()"
      ],
      "metadata": {
        "id": "IQ97WUXYFmQe"
      },
      "execution_count": 156,
      "outputs": []
    },
    {
      "cell_type": "code",
      "source": [
        "#Treinar o modelo\n",
        "modelo_todos = modelo_todos.fit(X_train_todos, y_train_todos)"
      ],
      "metadata": {
        "id": "X0H-_3zJH_vN"
      },
      "execution_count": 157,
      "outputs": []
    },
    {
      "cell_type": "code",
      "source": [
        "#Realizando a previsao\n",
        "y_pred_todos = modelo_todos.predict(X_validacao_todos)"
      ],
      "metadata": {
        "id": "vP954mB6Iz42"
      },
      "execution_count": 158,
      "outputs": []
    },
    {
      "cell_type": "code",
      "source": [
        "#Calculando o coefiente de determinacão\n",
        "r2_score(y_validacao_todos, y_pred_todos)"
      ],
      "metadata": {
        "colab": {
          "base_uri": "https://localhost:8080/"
        },
        "id": "pdW1lPPSJgAe",
        "outputId": "21842165-28f0-4ed1-a69b-8efc61d932e3"
      },
      "execution_count": 159,
      "outputs": [
        {
          "output_type": "execute_result",
          "data": {
            "text/plain": [
              "0.442391511023568"
            ]
          },
          "metadata": {},
          "execution_count": 159
        }
      ]
    },
    {
      "cell_type": "markdown",
      "source": [
        "<br>**Age x Survived**"
      ],
      "metadata": {
        "id": "c0wwEkBuLOIl"
      }
    },
    {
      "cell_type": "code",
      "source": [
        "modelo_age = LinearRegression()\n",
        "modelo_age = modelo_age.fit(X_train_age, y_train_age)\n",
        "y_pred_age = modelo_age.predict(X_validacao_age)\n",
        "r2_score(y_validacao_age, y_pred_age)"
      ],
      "metadata": {
        "id": "uHzeLG1oWMrR",
        "colab": {
          "base_uri": "https://localhost:8080/"
        },
        "outputId": "2c3bd27d-d2f6-40e9-a022-4f953fea8d95"
      },
      "execution_count": 160,
      "outputs": [
        {
          "output_type": "execute_result",
          "data": {
            "text/plain": [
              "-0.004197245412124184"
            ]
          },
          "metadata": {},
          "execution_count": 160
        }
      ]
    },
    {
      "cell_type": "markdown",
      "source": [
        "<br>**Sex x Survived**"
      ],
      "metadata": {
        "id": "x3kG6jOCLOx9"
      }
    },
    {
      "cell_type": "code",
      "source": [
        "modelo_sex = LinearRegression()\n",
        "modelo_sex = modelo_sex.fit(X_train_sex, y_train_sex)\n",
        "y_pred_sex = modelo_sex.predict(X_validacao_sex)\n",
        "r2_score(y_validacao_sex, y_pred_sex)"
      ],
      "metadata": {
        "colab": {
          "base_uri": "https://localhost:8080/"
        },
        "id": "q2AqdlGsGeiF",
        "outputId": "8e56ebc4-a62c-4242-e7ba-f48d3f307591"
      },
      "execution_count": 149,
      "outputs": [
        {
          "output_type": "execute_result",
          "data": {
            "text/plain": [
              "0.31616498055462194"
            ]
          },
          "metadata": {},
          "execution_count": 149
        }
      ]
    },
    {
      "cell_type": "markdown",
      "source": [
        "<br>**Pclass x Survived**"
      ],
      "metadata": {
        "id": "U25a4YMJLPe8"
      }
    },
    {
      "cell_type": "code",
      "source": [
        "modelo_pclass = LinearRegression()\n",
        "modelo_pclass = modelo_pclass.fit(X_train_pclass, y_train_pclass)\n",
        "y_pred_pclass = modelo_pclass.predict(X_validacao_pclass)\n",
        "r2_score(y_validacao_pclass, y_pred_pclass)"
      ],
      "metadata": {
        "colab": {
          "base_uri": "https://localhost:8080/"
        },
        "id": "v481_oZTHZnU",
        "outputId": "a2751356-db4f-4154-d166-50f74c4fac3e"
      },
      "execution_count": 150,
      "outputs": [
        {
          "output_type": "execute_result",
          "data": {
            "text/plain": [
              "0.14568791469594122"
            ]
          },
          "metadata": {},
          "execution_count": 150
        }
      ]
    },
    {
      "cell_type": "markdown",
      "source": [
        "<br>**Fare x Survived**"
      ],
      "metadata": {
        "id": "qNaSOl0nLQDs"
      }
    },
    {
      "cell_type": "code",
      "source": [
        "modelo_fare = LinearRegression()\n",
        "modelo_fare = modelo_fare.fit(X_train_fare, y_train_fare)\n",
        "y_pred_fare = modelo_fare.predict(X_validacao_fare)\n",
        "r2_score(y_validacao_fare, y_pred_fare)"
      ],
      "metadata": {
        "colab": {
          "base_uri": "https://localhost:8080/"
        },
        "id": "trToPRLbGyzN",
        "outputId": "96693328-29d7-4a63-f28d-e41ec7794995"
      },
      "execution_count": 151,
      "outputs": [
        {
          "output_type": "execute_result",
          "data": {
            "text/plain": [
              "0.07714041695835294"
            ]
          },
          "metadata": {},
          "execution_count": 151
        }
      ]
    },
    {
      "cell_type": "markdown",
      "source": [
        "<br>**Conclusão:** Utilizando a  regressão linear é possível detectar a correlação entre as variáveis.<br>\n",
        "variável independente **Age** teve uma resultado de importância **-0.4%** sobre a variável dependente Survived o que parece ser muito baixa pelo visto nos gráficos.<br>\n",
        "variável independente **Sex** teve uma resultado de importância **32%** sobre a variável dependente Survived, representando um participação importante nos sobreviventes.<br>\n",
        "variável independente **Pclass** teve uma resultado de importância **14%** sobre a variável dependente Survived, também representando importância nos sobreviventes.<br>\n",
        "variável independente **Fare** teve uma resultado de importância **7%** sobre a variável dependente Survived, também representando importância nos sobreviventes.\n"
      ],
      "metadata": {
        "id": "cL5-eV3J1sHW"
      }
    },
    {
      "cell_type": "markdown",
      "source": [
        "Os melhores resultados foram obtidos com o tamanho da amostra de 0.3"
      ],
      "metadata": {
        "id": "M7MBfy0eKavc"
      }
    },
    {
      "cell_type": "markdown",
      "source": [
        "#<br><br>**Machine Learning:**"
      ],
      "metadata": {
        "id": "rTiua1WsGlvi"
      }
    },
    {
      "cell_type": "markdown",
      "source": [
        "<br>**Árvores de decisão**"
      ],
      "metadata": {
        "id": "Jp8ZCz2uPIQl"
      }
    },
    {
      "cell_type": "code",
      "source": [
        "#criando o classificador\n",
        "modulo = DecisionTreeClassifier()\n",
        "\n",
        "#realizando o treinando\n",
        "modulo = modulo.fit(X_train, y_train)\n",
        "\n",
        "#realizando a previsao\n",
        "y_pred = modulo.predict(X_validacao)\n",
        "\n",
        "#acurácia\n",
        "accuracy_score(y_validacao, y_pred)"
      ],
      "metadata": {
        "id": "6Q2wq472xU1N",
        "colab": {
          "base_uri": "https://localhost:8080/"
        },
        "outputId": "9610493a-5ef6-480e-a026-e487c2f7b703"
      },
      "execution_count": 161,
      "outputs": [
        {
          "output_type": "execute_result",
          "data": {
            "text/plain": [
              "0.746268656716418"
            ]
          },
          "metadata": {},
          "execution_count": 161
        }
      ]
    },
    {
      "cell_type": "markdown",
      "source": [
        "<br>**Floresta aleatória**"
      ],
      "metadata": {
        "id": "n7SK8-J1PcSk"
      }
    },
    {
      "cell_type": "code",
      "source": [
        "#criando o classificador\n",
        "modulo_random = RandomForestClassifier()\n",
        "\n",
        "#realizando o treinando\n",
        "modulo_random = modulo_random.fit(X_train, y_train)\n",
        "\n",
        "#realizando a previsao\n",
        "y_pred_modulo_random = modulo_random.predict(X_validacao)\n",
        "\n",
        "#acurácia\n",
        "accuracy_score(y_validacao, y_pred_modulo_random)"
      ],
      "metadata": {
        "id": "xYUqfnZs3Bvj",
        "colab": {
          "base_uri": "https://localhost:8080/"
        },
        "outputId": "6e734baf-f584-49d0-be58-03b6eec0a34e"
      },
      "execution_count": 162,
      "outputs": [
        {
          "output_type": "execute_result",
          "data": {
            "text/plain": [
              "0.7947761194029851"
            ]
          },
          "metadata": {},
          "execution_count": 162
        }
      ]
    },
    {
      "cell_type": "markdown",
      "source": [
        "<br>**Regressão Logística**"
      ],
      "metadata": {
        "id": "Cnhd1Rj0TmDY"
      }
    },
    {
      "cell_type": "code",
      "source": [
        "#criando o classificador\n",
        "modulo_lg = LogisticRegression()\n",
        "\n",
        "#realizando o treinando\n",
        "modulo_lg = modulo_lg.fit(X_train, y_train)\n",
        "\n",
        "#realizando a previsao\n",
        "y_pred_lg = modulo_lg.predict(X_validacao)\n",
        "\n",
        "#acurácia\n",
        "accuracy_score(y_validacao, y_pred_lg)"
      ],
      "metadata": {
        "colab": {
          "base_uri": "https://localhost:8080/"
        },
        "id": "lSM1SMscT4Jm",
        "outputId": "4bfbf2e7-0cd6-44a8-f6eb-66874c98394c"
      },
      "execution_count": 163,
      "outputs": [
        {
          "output_type": "execute_result",
          "data": {
            "text/plain": [
              "0.8134328358208955"
            ]
          },
          "metadata": {},
          "execution_count": 163
        }
      ]
    },
    {
      "cell_type": "markdown",
      "source": [
        "<br>**Conclusão:** Dos três modelos de machine learning, usando a métrica da acurácia,  o modelo com melhor desempenho foi  o da **Regressão Logística** que obteve 81% de acertos, **Floresta aleatória** ficou em segundo com 79% e a **Arvore de decisão** ficou em ultimo com apenas 74%."
      ],
      "metadata": {
        "id": "Fl1VANkZbiKm"
      }
    },
    {
      "cell_type": "markdown",
      "source": [
        "<br>**validação cruzada com k-fold cross-validation**"
      ],
      "metadata": {
        "id": "BAE-w5n6d87G"
      }
    },
    {
      "cell_type": "markdown",
      "source": [
        "<br>**Árvores de decisão**"
      ],
      "metadata": {
        "id": "z04g4dsWeaU-"
      }
    },
    {
      "cell_type": "code",
      "source": [
        "# Criando o objeto KFold\n",
        "kfold = KFold(n_splits=5)\n",
        "\n",
        "# Realizando a validação cruzada\n",
        "scores = cross_val_score(modulo, X_train, y_train, cv=kfold)\n",
        "\n",
        "# Calculando a média das acurácias\n",
        "mean_accuracy = scores.mean()\n",
        "\n",
        "print('Média das acurácias', mean_accuracy)\n"
      ],
      "metadata": {
        "colab": {
          "base_uri": "https://localhost:8080/"
        },
        "id": "pKYX9BtYeZye",
        "outputId": "0f6b02d0-a636-49a0-e74c-8ae713560bdf"
      },
      "execution_count": 164,
      "outputs": [
        {
          "output_type": "stream",
          "name": "stdout",
          "text": [
            "Média das acurácias 0.7753419354838711\n"
          ]
        }
      ]
    },
    {
      "cell_type": "markdown",
      "source": [
        "<br>**Floresta aleatória**"
      ],
      "metadata": {
        "id": "QkRPy3VWeZmW"
      }
    },
    {
      "cell_type": "code",
      "source": [
        "# Criando o objeto KFold\n",
        "kfold = KFold(n_splits=5)\n",
        "\n",
        "# Realizando a validação cruzada\n",
        "scores = cross_val_score(modulo_random, X_train, y_train, cv=kfold)\n",
        "\n",
        "# Calculando a média das acurácias\n",
        "mean_accuracy = scores.mean()\n",
        "\n",
        "print('Média das acurácias', mean_accuracy)"
      ],
      "metadata": {
        "colab": {
          "base_uri": "https://localhost:8080/"
        },
        "id": "Cs26proyebW2",
        "outputId": "aa2679c1-3330-4096-e055-edaaaf4c8a7a"
      },
      "execution_count": 165,
      "outputs": [
        {
          "output_type": "stream",
          "name": "stdout",
          "text": [
            "Média das acurácias 0.7881548387096775\n"
          ]
        }
      ]
    },
    {
      "cell_type": "markdown",
      "source": [
        "<br>**Regressão Logística**"
      ],
      "metadata": {
        "id": "epBfFAk-eT92"
      }
    },
    {
      "cell_type": "code",
      "source": [
        "# Criando o objeto KFold\n",
        "kfold = KFold(n_splits=5)\n",
        "\n",
        "# Realizando a validação cruzada\n",
        "scores = cross_val_score(modulo_lg, X_train, y_train, cv=kfold)\n",
        "\n",
        "# Calculando a média das acurácias\n",
        "mean_accuracy = scores.mean()\n",
        "\n",
        "print('Média das acurácias', mean_accuracy)"
      ],
      "metadata": {
        "colab": {
          "base_uri": "https://localhost:8080/"
        },
        "id": "bHYMNG5eWMM3",
        "outputId": "ee10d592-983b-4be1-85f0-3470f3968155"
      },
      "execution_count": 166,
      "outputs": [
        {
          "output_type": "stream",
          "name": "stdout",
          "text": [
            "Média das acurácias 0.7976903225806453\n"
          ]
        }
      ]
    },
    {
      "cell_type": "markdown",
      "source": [
        "<br>**Conclusão:** Utilizando o K-fold e o cross-validation para realizar a validação crusada, dividindo em splits e realizando uma média das acurácias foram obtidos os seguintes resultados: **Árvores de decisão** 77%, **Floresta aleatória** 78% e a **Regressão logística** com o melhor resultado 79%. Os melhores resultados foram obtidos com 5 splits"
      ],
      "metadata": {
        "id": "oIqe3QF7dbDG"
      }
    },
    {
      "cell_type": "markdown",
      "source": [
        "<br>**métricas de validação**"
      ],
      "metadata": {
        "id": "6D-VSez3Sx66"
      }
    },
    {
      "cell_type": "markdown",
      "source": [
        "<br>**Algoritmo Árvores de decisão**"
      ],
      "metadata": {
        "id": "vPqP57oPO7uB"
      }
    },
    {
      "cell_type": "code",
      "source": [
        "# Precision: Precisão dos acertos da previsão\n",
        "precision_score(y_validacao, y_pred)"
      ],
      "metadata": {
        "colab": {
          "base_uri": "https://localhost:8080/"
        },
        "id": "xVh-wbP1PkYw",
        "outputId": "67f67eb9-c13a-4171-915a-7aaec6075c8f"
      },
      "execution_count": 167,
      "outputs": [
        {
          "output_type": "execute_result",
          "data": {
            "text/plain": [
              "0.7047619047619048"
            ]
          },
          "metadata": {},
          "execution_count": 167
        }
      ]
    },
    {
      "cell_type": "code",
      "source": [
        "# Recall: Calculo que mede a razão entre o número de verdadeiros positivos e a soma dos verdadeiros positivos e falsos negativos\n",
        "recall_score(y_validacao, y_pred)"
      ],
      "metadata": {
        "colab": {
          "base_uri": "https://localhost:8080/"
        },
        "id": "eZMKXhOOLxLa",
        "outputId": "75bdfa12-6b0e-4610-c034-24d7f6572ac3"
      },
      "execution_count": 168,
      "outputs": [
        {
          "output_type": "execute_result",
          "data": {
            "text/plain": [
              "0.6666666666666666"
            ]
          },
          "metadata": {},
          "execution_count": 168
        }
      ]
    },
    {
      "cell_type": "code",
      "source": [
        "# F1_score: Combinação entre a precisão e o recall\n",
        "f1_score(y_validacao, y_pred)"
      ],
      "metadata": {
        "colab": {
          "base_uri": "https://localhost:8080/"
        },
        "id": "dPCKlkbDP8Yo",
        "outputId": "3d1e1a1d-4221-4cf9-9d3a-f9ca72a35463"
      },
      "execution_count": 169,
      "outputs": [
        {
          "output_type": "execute_result",
          "data": {
            "text/plain": [
              "0.6851851851851851"
            ]
          },
          "metadata": {},
          "execution_count": 169
        }
      ]
    },
    {
      "cell_type": "markdown",
      "source": [
        "<br>**Algoritmo Floresta aleatória**"
      ],
      "metadata": {
        "id": "JJ00wVDJPCGh"
      }
    },
    {
      "cell_type": "code",
      "source": [
        "# Precision\n",
        "precision_score(y_validacao, y_pred_modulo_random)"
      ],
      "metadata": {
        "colab": {
          "base_uri": "https://localhost:8080/"
        },
        "id": "aEZrrl1EQDDA",
        "outputId": "b9844411-b25f-4506-ae5c-b9764f70de2f"
      },
      "execution_count": 170,
      "outputs": [
        {
          "output_type": "execute_result",
          "data": {
            "text/plain": [
              "0.78"
            ]
          },
          "metadata": {},
          "execution_count": 170
        }
      ]
    },
    {
      "cell_type": "code",
      "source": [
        "# Recall\n",
        "recall_score(y_validacao, y_pred_modulo_random)"
      ],
      "metadata": {
        "colab": {
          "base_uri": "https://localhost:8080/"
        },
        "id": "LGw2vnzrNCFp",
        "outputId": "05ff3624-8b63-4788-e8b5-0104d034719a"
      },
      "execution_count": 171,
      "outputs": [
        {
          "output_type": "execute_result",
          "data": {
            "text/plain": [
              "0.7027027027027027"
            ]
          },
          "metadata": {},
          "execution_count": 171
        }
      ]
    },
    {
      "cell_type": "code",
      "source": [
        "# F1_score\n",
        "f1_score(y_validacao, y_pred_modulo_random)"
      ],
      "metadata": {
        "colab": {
          "base_uri": "https://localhost:8080/"
        },
        "id": "ALnPGNO4QYOA",
        "outputId": "2fb66b5e-496e-453c-981f-aedf48ed6b11"
      },
      "execution_count": 172,
      "outputs": [
        {
          "output_type": "execute_result",
          "data": {
            "text/plain": [
              "0.7393364928909952"
            ]
          },
          "metadata": {},
          "execution_count": 172
        }
      ]
    },
    {
      "cell_type": "markdown",
      "source": [
        "<br>**Algoritmo Regressão Logística**"
      ],
      "metadata": {
        "id": "EVht1z1RcWk2"
      }
    },
    {
      "cell_type": "code",
      "source": [
        "# Precision\n",
        "precision_score(y_validacao, y_pred_lg)"
      ],
      "metadata": {
        "colab": {
          "base_uri": "https://localhost:8080/"
        },
        "id": "Ji_fdJ-_cge-",
        "outputId": "7cc6c127-c0cf-494a-fd5f-48b9995c2785"
      },
      "execution_count": 173,
      "outputs": [
        {
          "output_type": "execute_result",
          "data": {
            "text/plain": [
              "0.8144329896907216"
            ]
          },
          "metadata": {},
          "execution_count": 173
        }
      ]
    },
    {
      "cell_type": "code",
      "source": [
        "# Recall\n",
        "recall_score(y_validacao, y_pred_lg)"
      ],
      "metadata": {
        "colab": {
          "base_uri": "https://localhost:8080/"
        },
        "id": "OfJ8qWdgcgWe",
        "outputId": "0681e89a-0271-4c07-846f-a9d855717e9f"
      },
      "execution_count": 174,
      "outputs": [
        {
          "output_type": "execute_result",
          "data": {
            "text/plain": [
              "0.7117117117117117"
            ]
          },
          "metadata": {},
          "execution_count": 174
        }
      ]
    },
    {
      "cell_type": "code",
      "source": [
        "# F1_score\n",
        "f1_score(y_validacao, y_pred_lg)"
      ],
      "metadata": {
        "colab": {
          "base_uri": "https://localhost:8080/"
        },
        "id": "dtM7Bdu1cgL9",
        "outputId": "e1a1f6af-df97-4681-b689-c72d9c1983a9"
      },
      "execution_count": 175,
      "outputs": [
        {
          "output_type": "execute_result",
          "data": {
            "text/plain": [
              "0.7596153846153846"
            ]
          },
          "metadata": {},
          "execution_count": 175
        }
      ]
    },
    {
      "cell_type": "markdown",
      "source": [
        "<br>**Conclusão:**O Algoritmo de Regressão Logística teve o melhor resultado em todas as métricas de avaliação de desempenho acurácia, precision, recall e f1"
      ],
      "metadata": {
        "id": "lYHcT_93NISD"
      }
    },
    {
      "cell_type": "markdown",
      "source": [
        "# <br>**DataFrame final prevendo os sobreviventes do test**"
      ],
      "metadata": {
        "id": "7ojWpV5BMIub"
      }
    },
    {
      "cell_type": "code",
      "source": [
        "test_final = teste_numerico.drop('PassengerId', axis=1)"
      ],
      "metadata": {
        "id": "3sKF9GPYLmi0"
      },
      "execution_count": 176,
      "outputs": []
    },
    {
      "cell_type": "code",
      "source": [
        "# Usando o modelo de Logistic Regression para prever os sovreviventes\n",
        "test_pred = modulo_lg.predict(test_final)"
      ],
      "metadata": {
        "id": "4_vs2l-1JrYW"
      },
      "execution_count": 177,
      "outputs": []
    },
    {
      "cell_type": "code",
      "source": [
        "# Criando um novo dataFrame\n",
        "df_test_resultado = pd.DataFrame()"
      ],
      "metadata": {
        "id": "JGMAq60vntYw"
      },
      "execution_count": 178,
      "outputs": []
    },
    {
      "cell_type": "code",
      "source": [
        "# adicionando a coluna Passageiros\n",
        "df_test_resultado['Passageiro'] = test_original['Name']"
      ],
      "metadata": {
        "id": "6b9U4T6doM8w"
      },
      "execution_count": 179,
      "outputs": []
    },
    {
      "cell_type": "code",
      "source": [
        "# adicionando a coluna Sobreviveu\n",
        "df_test_resultado['Sobreviveu'] = test_pred"
      ],
      "metadata": {
        "id": "x01_ZwHvojEw"
      },
      "execution_count": 180,
      "outputs": []
    },
    {
      "cell_type": "code",
      "source": [
        "df_test_resultado.head(10)"
      ],
      "metadata": {
        "colab": {
          "base_uri": "https://localhost:8080/",
          "height": 363
        },
        "id": "GBGLVE5No17H",
        "outputId": "3ab6463b-7297-4b75-d525-fd028cb0b554"
      },
      "execution_count": 181,
      "outputs": [
        {
          "output_type": "execute_result",
          "data": {
            "text/plain": [
              "                                     Passageiro  Sobreviveu\n",
              "0                              Kelly, Mr. James           0\n",
              "1              Wilkes, Mrs. James (Ellen Needs)           0\n",
              "2                     Myles, Mr. Thomas Francis           0\n",
              "3                              Wirz, Mr. Albert           0\n",
              "4  Hirvonen, Mrs. Alexander (Helga E Lindqvist)           1\n",
              "5                    Svensson, Mr. Johan Cervin           0\n",
              "6                          Connolly, Miss. Kate           1\n",
              "7                  Caldwell, Mr. Albert Francis           0\n",
              "8     Abrahim, Mrs. Joseph (Sophie Halaut Easu)           1\n",
              "9                       Davies, Mr. John Samuel           0"
            ],
            "text/html": [
              "\n",
              "  <div id=\"df-b27605b8-b381-4938-9ffe-945f299282fb\">\n",
              "    <div class=\"colab-df-container\">\n",
              "      <div>\n",
              "<style scoped>\n",
              "    .dataframe tbody tr th:only-of-type {\n",
              "        vertical-align: middle;\n",
              "    }\n",
              "\n",
              "    .dataframe tbody tr th {\n",
              "        vertical-align: top;\n",
              "    }\n",
              "\n",
              "    .dataframe thead th {\n",
              "        text-align: right;\n",
              "    }\n",
              "</style>\n",
              "<table border=\"1\" class=\"dataframe\">\n",
              "  <thead>\n",
              "    <tr style=\"text-align: right;\">\n",
              "      <th></th>\n",
              "      <th>Passageiro</th>\n",
              "      <th>Sobreviveu</th>\n",
              "    </tr>\n",
              "  </thead>\n",
              "  <tbody>\n",
              "    <tr>\n",
              "      <th>0</th>\n",
              "      <td>Kelly, Mr. James</td>\n",
              "      <td>0</td>\n",
              "    </tr>\n",
              "    <tr>\n",
              "      <th>1</th>\n",
              "      <td>Wilkes, Mrs. James (Ellen Needs)</td>\n",
              "      <td>0</td>\n",
              "    </tr>\n",
              "    <tr>\n",
              "      <th>2</th>\n",
              "      <td>Myles, Mr. Thomas Francis</td>\n",
              "      <td>0</td>\n",
              "    </tr>\n",
              "    <tr>\n",
              "      <th>3</th>\n",
              "      <td>Wirz, Mr. Albert</td>\n",
              "      <td>0</td>\n",
              "    </tr>\n",
              "    <tr>\n",
              "      <th>4</th>\n",
              "      <td>Hirvonen, Mrs. Alexander (Helga E Lindqvist)</td>\n",
              "      <td>1</td>\n",
              "    </tr>\n",
              "    <tr>\n",
              "      <th>5</th>\n",
              "      <td>Svensson, Mr. Johan Cervin</td>\n",
              "      <td>0</td>\n",
              "    </tr>\n",
              "    <tr>\n",
              "      <th>6</th>\n",
              "      <td>Connolly, Miss. Kate</td>\n",
              "      <td>1</td>\n",
              "    </tr>\n",
              "    <tr>\n",
              "      <th>7</th>\n",
              "      <td>Caldwell, Mr. Albert Francis</td>\n",
              "      <td>0</td>\n",
              "    </tr>\n",
              "    <tr>\n",
              "      <th>8</th>\n",
              "      <td>Abrahim, Mrs. Joseph (Sophie Halaut Easu)</td>\n",
              "      <td>1</td>\n",
              "    </tr>\n",
              "    <tr>\n",
              "      <th>9</th>\n",
              "      <td>Davies, Mr. John Samuel</td>\n",
              "      <td>0</td>\n",
              "    </tr>\n",
              "  </tbody>\n",
              "</table>\n",
              "</div>\n",
              "      <button class=\"colab-df-convert\" onclick=\"convertToInteractive('df-b27605b8-b381-4938-9ffe-945f299282fb')\"\n",
              "              title=\"Convert this dataframe to an interactive table.\"\n",
              "              style=\"display:none;\">\n",
              "        \n",
              "  <svg xmlns=\"http://www.w3.org/2000/svg\" height=\"24px\"viewBox=\"0 0 24 24\"\n",
              "       width=\"24px\">\n",
              "    <path d=\"M0 0h24v24H0V0z\" fill=\"none\"/>\n",
              "    <path d=\"M18.56 5.44l.94 2.06.94-2.06 2.06-.94-2.06-.94-.94-2.06-.94 2.06-2.06.94zm-11 1L8.5 8.5l.94-2.06 2.06-.94-2.06-.94L8.5 2.5l-.94 2.06-2.06.94zm10 10l.94 2.06.94-2.06 2.06-.94-2.06-.94-.94-2.06-.94 2.06-2.06.94z\"/><path d=\"M17.41 7.96l-1.37-1.37c-.4-.4-.92-.59-1.43-.59-.52 0-1.04.2-1.43.59L10.3 9.45l-7.72 7.72c-.78.78-.78 2.05 0 2.83L4 21.41c.39.39.9.59 1.41.59.51 0 1.02-.2 1.41-.59l7.78-7.78 2.81-2.81c.8-.78.8-2.07 0-2.86zM5.41 20L4 18.59l7.72-7.72 1.47 1.35L5.41 20z\"/>\n",
              "  </svg>\n",
              "      </button>\n",
              "      \n",
              "  <style>\n",
              "    .colab-df-container {\n",
              "      display:flex;\n",
              "      flex-wrap:wrap;\n",
              "      gap: 12px;\n",
              "    }\n",
              "\n",
              "    .colab-df-convert {\n",
              "      background-color: #E8F0FE;\n",
              "      border: none;\n",
              "      border-radius: 50%;\n",
              "      cursor: pointer;\n",
              "      display: none;\n",
              "      fill: #1967D2;\n",
              "      height: 32px;\n",
              "      padding: 0 0 0 0;\n",
              "      width: 32px;\n",
              "    }\n",
              "\n",
              "    .colab-df-convert:hover {\n",
              "      background-color: #E2EBFA;\n",
              "      box-shadow: 0px 1px 2px rgba(60, 64, 67, 0.3), 0px 1px 3px 1px rgba(60, 64, 67, 0.15);\n",
              "      fill: #174EA6;\n",
              "    }\n",
              "\n",
              "    [theme=dark] .colab-df-convert {\n",
              "      background-color: #3B4455;\n",
              "      fill: #D2E3FC;\n",
              "    }\n",
              "\n",
              "    [theme=dark] .colab-df-convert:hover {\n",
              "      background-color: #434B5C;\n",
              "      box-shadow: 0px 1px 3px 1px rgba(0, 0, 0, 0.15);\n",
              "      filter: drop-shadow(0px 1px 2px rgba(0, 0, 0, 0.3));\n",
              "      fill: #FFFFFF;\n",
              "    }\n",
              "  </style>\n",
              "\n",
              "      <script>\n",
              "        const buttonEl =\n",
              "          document.querySelector('#df-b27605b8-b381-4938-9ffe-945f299282fb button.colab-df-convert');\n",
              "        buttonEl.style.display =\n",
              "          google.colab.kernel.accessAllowed ? 'block' : 'none';\n",
              "\n",
              "        async function convertToInteractive(key) {\n",
              "          const element = document.querySelector('#df-b27605b8-b381-4938-9ffe-945f299282fb');\n",
              "          const dataTable =\n",
              "            await google.colab.kernel.invokeFunction('convertToInteractive',\n",
              "                                                     [key], {});\n",
              "          if (!dataTable) return;\n",
              "\n",
              "          const docLinkHtml = 'Like what you see? Visit the ' +\n",
              "            '<a target=\"_blank\" href=https://colab.research.google.com/notebooks/data_table.ipynb>data table notebook</a>'\n",
              "            + ' to learn more about interactive tables.';\n",
              "          element.innerHTML = '';\n",
              "          dataTable['output_type'] = 'display_data';\n",
              "          await google.colab.output.renderOutput(dataTable, element);\n",
              "          const docLink = document.createElement('div');\n",
              "          docLink.innerHTML = docLinkHtml;\n",
              "          element.appendChild(docLink);\n",
              "        }\n",
              "      </script>\n",
              "    </div>\n",
              "  </div>\n",
              "  "
            ]
          },
          "metadata": {},
          "execution_count": 181
        }
      ]
    },
    {
      "cell_type": "code",
      "source": [
        "df_test_resultado.describe()"
      ],
      "metadata": {
        "colab": {
          "base_uri": "https://localhost:8080/",
          "height": 300
        },
        "id": "yYTIjFffOVJp",
        "outputId": "8b198467-2991-486d-8809-dcf514af1293"
      },
      "execution_count": 182,
      "outputs": [
        {
          "output_type": "execute_result",
          "data": {
            "text/plain": [
              "       Sobreviveu\n",
              "count  418.000000\n",
              "mean     0.356459\n",
              "std      0.479527\n",
              "min      0.000000\n",
              "25%      0.000000\n",
              "50%      0.000000\n",
              "75%      1.000000\n",
              "max      1.000000"
            ],
            "text/html": [
              "\n",
              "  <div id=\"df-aeddfabf-251a-49a6-ba14-a3c153867d2d\">\n",
              "    <div class=\"colab-df-container\">\n",
              "      <div>\n",
              "<style scoped>\n",
              "    .dataframe tbody tr th:only-of-type {\n",
              "        vertical-align: middle;\n",
              "    }\n",
              "\n",
              "    .dataframe tbody tr th {\n",
              "        vertical-align: top;\n",
              "    }\n",
              "\n",
              "    .dataframe thead th {\n",
              "        text-align: right;\n",
              "    }\n",
              "</style>\n",
              "<table border=\"1\" class=\"dataframe\">\n",
              "  <thead>\n",
              "    <tr style=\"text-align: right;\">\n",
              "      <th></th>\n",
              "      <th>Sobreviveu</th>\n",
              "    </tr>\n",
              "  </thead>\n",
              "  <tbody>\n",
              "    <tr>\n",
              "      <th>count</th>\n",
              "      <td>418.000000</td>\n",
              "    </tr>\n",
              "    <tr>\n",
              "      <th>mean</th>\n",
              "      <td>0.356459</td>\n",
              "    </tr>\n",
              "    <tr>\n",
              "      <th>std</th>\n",
              "      <td>0.479527</td>\n",
              "    </tr>\n",
              "    <tr>\n",
              "      <th>min</th>\n",
              "      <td>0.000000</td>\n",
              "    </tr>\n",
              "    <tr>\n",
              "      <th>25%</th>\n",
              "      <td>0.000000</td>\n",
              "    </tr>\n",
              "    <tr>\n",
              "      <th>50%</th>\n",
              "      <td>0.000000</td>\n",
              "    </tr>\n",
              "    <tr>\n",
              "      <th>75%</th>\n",
              "      <td>1.000000</td>\n",
              "    </tr>\n",
              "    <tr>\n",
              "      <th>max</th>\n",
              "      <td>1.000000</td>\n",
              "    </tr>\n",
              "  </tbody>\n",
              "</table>\n",
              "</div>\n",
              "      <button class=\"colab-df-convert\" onclick=\"convertToInteractive('df-aeddfabf-251a-49a6-ba14-a3c153867d2d')\"\n",
              "              title=\"Convert this dataframe to an interactive table.\"\n",
              "              style=\"display:none;\">\n",
              "        \n",
              "  <svg xmlns=\"http://www.w3.org/2000/svg\" height=\"24px\"viewBox=\"0 0 24 24\"\n",
              "       width=\"24px\">\n",
              "    <path d=\"M0 0h24v24H0V0z\" fill=\"none\"/>\n",
              "    <path d=\"M18.56 5.44l.94 2.06.94-2.06 2.06-.94-2.06-.94-.94-2.06-.94 2.06-2.06.94zm-11 1L8.5 8.5l.94-2.06 2.06-.94-2.06-.94L8.5 2.5l-.94 2.06-2.06.94zm10 10l.94 2.06.94-2.06 2.06-.94-2.06-.94-.94-2.06-.94 2.06-2.06.94z\"/><path d=\"M17.41 7.96l-1.37-1.37c-.4-.4-.92-.59-1.43-.59-.52 0-1.04.2-1.43.59L10.3 9.45l-7.72 7.72c-.78.78-.78 2.05 0 2.83L4 21.41c.39.39.9.59 1.41.59.51 0 1.02-.2 1.41-.59l7.78-7.78 2.81-2.81c.8-.78.8-2.07 0-2.86zM5.41 20L4 18.59l7.72-7.72 1.47 1.35L5.41 20z\"/>\n",
              "  </svg>\n",
              "      </button>\n",
              "      \n",
              "  <style>\n",
              "    .colab-df-container {\n",
              "      display:flex;\n",
              "      flex-wrap:wrap;\n",
              "      gap: 12px;\n",
              "    }\n",
              "\n",
              "    .colab-df-convert {\n",
              "      background-color: #E8F0FE;\n",
              "      border: none;\n",
              "      border-radius: 50%;\n",
              "      cursor: pointer;\n",
              "      display: none;\n",
              "      fill: #1967D2;\n",
              "      height: 32px;\n",
              "      padding: 0 0 0 0;\n",
              "      width: 32px;\n",
              "    }\n",
              "\n",
              "    .colab-df-convert:hover {\n",
              "      background-color: #E2EBFA;\n",
              "      box-shadow: 0px 1px 2px rgba(60, 64, 67, 0.3), 0px 1px 3px 1px rgba(60, 64, 67, 0.15);\n",
              "      fill: #174EA6;\n",
              "    }\n",
              "\n",
              "    [theme=dark] .colab-df-convert {\n",
              "      background-color: #3B4455;\n",
              "      fill: #D2E3FC;\n",
              "    }\n",
              "\n",
              "    [theme=dark] .colab-df-convert:hover {\n",
              "      background-color: #434B5C;\n",
              "      box-shadow: 0px 1px 3px 1px rgba(0, 0, 0, 0.15);\n",
              "      filter: drop-shadow(0px 1px 2px rgba(0, 0, 0, 0.3));\n",
              "      fill: #FFFFFF;\n",
              "    }\n",
              "  </style>\n",
              "\n",
              "      <script>\n",
              "        const buttonEl =\n",
              "          document.querySelector('#df-aeddfabf-251a-49a6-ba14-a3c153867d2d button.colab-df-convert');\n",
              "        buttonEl.style.display =\n",
              "          google.colab.kernel.accessAllowed ? 'block' : 'none';\n",
              "\n",
              "        async function convertToInteractive(key) {\n",
              "          const element = document.querySelector('#df-aeddfabf-251a-49a6-ba14-a3c153867d2d');\n",
              "          const dataTable =\n",
              "            await google.colab.kernel.invokeFunction('convertToInteractive',\n",
              "                                                     [key], {});\n",
              "          if (!dataTable) return;\n",
              "\n",
              "          const docLinkHtml = 'Like what you see? Visit the ' +\n",
              "            '<a target=\"_blank\" href=https://colab.research.google.com/notebooks/data_table.ipynb>data table notebook</a>'\n",
              "            + ' to learn more about interactive tables.';\n",
              "          element.innerHTML = '';\n",
              "          dataTable['output_type'] = 'display_data';\n",
              "          await google.colab.output.renderOutput(dataTable, element);\n",
              "          const docLink = document.createElement('div');\n",
              "          docLink.innerHTML = docLinkHtml;\n",
              "          element.appendChild(docLink);\n",
              "        }\n",
              "      </script>\n",
              "    </div>\n",
              "  </div>\n",
              "  "
            ]
          },
          "metadata": {},
          "execution_count": 182
        }
      ]
    },
    {
      "cell_type": "markdown",
      "source": [
        "# <br>**Considerações finais**"
      ],
      "metadata": {
        "id": "0LE7MCztLpeL"
      }
    },
    {
      "cell_type": "markdown",
      "source": [
        "Com a análise exploratória foi possível descobrir as características padrões dos sobreviventes, a maioria dos sobreviventes apresentavam as seguintes características, passageiros mais jovens, crianças, as mulheres e os passageiros de classe mais alta, todos esses tiveram uma taxa maior de sobrevivência.<br> Amostragem e Probabilidade, com as técnicas de amostragem foram criadas amostras para serem utilizadas no modelo de regressão Linear e nos modelos de machine learning, com a probabilidade utilizando amostras para gerar porcentagem de chance que cada grupo de passageiros teria de sobreviver.<br> Com a regressão linear foi possível verificar qual a importância de cada coluna de características sobre a coluna de sobreviventes.<br> Com os modelos de machine learning, utilizando as amostras criadas anteriormente foi realizado o treinamento dos modelos e seus teste. O modelo de regressão Logística, que obteve os melhores resultados, foi escolhido para  realizar a previsão do dataFrame test do titanic prevendo quais passageiros sobreviveriam."
      ],
      "metadata": {
        "id": "jwgTsxmTL1aM"
      }
    }
  ]
}